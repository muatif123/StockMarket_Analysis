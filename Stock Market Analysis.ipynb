{
 "cells": [
  {
   "cell_type": "markdown",
   "metadata": {},
   "source": [
    "## Numerical Analysis"
   ]
  },
  {
   "cell_type": "markdown",
   "metadata": {},
   "source": [
    "### Stock Market Analysis"
   ]
  },
  {
   "cell_type": "markdown",
   "metadata": {},
   "source": [
    "Stock analysis involves comparing a company's current financial statement to its financial statements in previous years to give an investor a sense of whether the company is growing, stable, or deteriorating."
   ]
  },
  {
   "cell_type": "markdown",
   "metadata": {},
   "source": [
    "###### Performed By : Muatif Shaikh "
   ]
  },
  {
   "cell_type": "code",
   "execution_count": 1,
   "metadata": {},
   "outputs": [],
   "source": [
    "# Installing yfinance to download data from Yahoo finance\n",
    "!pip install yfinance --upgrade --quiet"
   ]
  },
  {
   "cell_type": "code",
   "execution_count": 2,
   "metadata": {},
   "outputs": [],
   "source": [
    "#Importing the required libraries\n",
    "import pandas as pd\n",
    "import numpy as np\n",
    "import matplotlib.pyplot as plt\n",
    "import seaborn as sns\n",
    "import yfinance as yf"
   ]
  },
  {
   "cell_type": "code",
   "execution_count": 3,
   "metadata": {},
   "outputs": [
    {
     "name": "stdout",
     "output_type": "stream",
     "text": [
      "[*********************100%***********************]  1 of 1 completed\n"
     ]
    }
   ],
   "source": [
    "# Downloading the data of BSE SENSEX from '01-01-2015' to '12-06-2021'\n",
    "bse_data = yf.download(\"^BSESN\", start = '2015-01-01', end = '2021-06-12')"
   ]
  },
  {
   "cell_type": "markdown",
   "metadata": {},
   "source": [
    "##### Checking the statiscal description of data"
   ]
  },
  {
   "cell_type": "code",
   "execution_count": 4,
   "metadata": {},
   "outputs": [
    {
     "data": {
      "text/html": [
       "<div>\n",
       "<style scoped>\n",
       "    .dataframe tbody tr th:only-of-type {\n",
       "        vertical-align: middle;\n",
       "    }\n",
       "\n",
       "    .dataframe tbody tr th {\n",
       "        vertical-align: top;\n",
       "    }\n",
       "\n",
       "    .dataframe thead th {\n",
       "        text-align: right;\n",
       "    }\n",
       "</style>\n",
       "<table border=\"1\" class=\"dataframe\">\n",
       "  <thead>\n",
       "    <tr style=\"text-align: right;\">\n",
       "      <th></th>\n",
       "      <th>Open</th>\n",
       "      <th>High</th>\n",
       "      <th>Low</th>\n",
       "      <th>Close</th>\n",
       "      <th>Adj Close</th>\n",
       "      <th>Volume</th>\n",
       "    </tr>\n",
       "    <tr>\n",
       "      <th>Date</th>\n",
       "      <th></th>\n",
       "      <th></th>\n",
       "      <th></th>\n",
       "      <th></th>\n",
       "      <th></th>\n",
       "      <th></th>\n",
       "    </tr>\n",
       "  </thead>\n",
       "  <tbody>\n",
       "    <tr>\n",
       "      <th>2015-01-02</th>\n",
       "      <td>27521.279297</td>\n",
       "      <td>27937.470703</td>\n",
       "      <td>27519.259766</td>\n",
       "      <td>27887.900391</td>\n",
       "      <td>27887.900391</td>\n",
       "      <td>7400</td>\n",
       "    </tr>\n",
       "    <tr>\n",
       "      <th>2015-01-05</th>\n",
       "      <td>27978.429688</td>\n",
       "      <td>28064.490234</td>\n",
       "      <td>27786.849609</td>\n",
       "      <td>27842.320312</td>\n",
       "      <td>27842.320312</td>\n",
       "      <td>9200</td>\n",
       "    </tr>\n",
       "    <tr>\n",
       "      <th>2015-01-06</th>\n",
       "      <td>27694.230469</td>\n",
       "      <td>27698.929688</td>\n",
       "      <td>26937.060547</td>\n",
       "      <td>26987.460938</td>\n",
       "      <td>26987.460938</td>\n",
       "      <td>14100</td>\n",
       "    </tr>\n",
       "    <tr>\n",
       "      <th>2015-01-07</th>\n",
       "      <td>26983.429688</td>\n",
       "      <td>27051.599609</td>\n",
       "      <td>26776.119141</td>\n",
       "      <td>26908.820312</td>\n",
       "      <td>26908.820312</td>\n",
       "      <td>12200</td>\n",
       "    </tr>\n",
       "    <tr>\n",
       "      <th>2015-01-08</th>\n",
       "      <td>27178.769531</td>\n",
       "      <td>27316.410156</td>\n",
       "      <td>27101.939453</td>\n",
       "      <td>27274.710938</td>\n",
       "      <td>27274.710938</td>\n",
       "      <td>8200</td>\n",
       "    </tr>\n",
       "  </tbody>\n",
       "</table>\n",
       "</div>"
      ],
      "text/plain": [
       "                    Open          High           Low         Close  \\\n",
       "Date                                                                 \n",
       "2015-01-02  27521.279297  27937.470703  27519.259766  27887.900391   \n",
       "2015-01-05  27978.429688  28064.490234  27786.849609  27842.320312   \n",
       "2015-01-06  27694.230469  27698.929688  26937.060547  26987.460938   \n",
       "2015-01-07  26983.429688  27051.599609  26776.119141  26908.820312   \n",
       "2015-01-08  27178.769531  27316.410156  27101.939453  27274.710938   \n",
       "\n",
       "               Adj Close  Volume  \n",
       "Date                              \n",
       "2015-01-02  27887.900391    7400  \n",
       "2015-01-05  27842.320312    9200  \n",
       "2015-01-06  26987.460938   14100  \n",
       "2015-01-07  26908.820312   12200  \n",
       "2015-01-08  27274.710938    8200  "
      ]
     },
     "execution_count": 4,
     "metadata": {},
     "output_type": "execute_result"
    }
   ],
   "source": [
    "bse_data.head()"
   ]
  },
  {
   "cell_type": "code",
   "execution_count": 5,
   "metadata": {},
   "outputs": [
    {
     "data": {
      "text/plain": [
       "(1581, 6)"
      ]
     },
     "execution_count": 5,
     "metadata": {},
     "output_type": "execute_result"
    }
   ],
   "source": [
    "bse_data.shape"
   ]
  },
  {
   "cell_type": "code",
   "execution_count": 6,
   "metadata": {},
   "outputs": [
    {
     "name": "stdout",
     "output_type": "stream",
     "text": [
      "<class 'pandas.core.frame.DataFrame'>\n",
      "DatetimeIndex: 1581 entries, 2015-01-02 to 2021-06-11\n",
      "Data columns (total 6 columns):\n",
      " #   Column     Non-Null Count  Dtype  \n",
      "---  ------     --------------  -----  \n",
      " 0   Open       1581 non-null   float64\n",
      " 1   High       1581 non-null   float64\n",
      " 2   Low        1581 non-null   float64\n",
      " 3   Close      1581 non-null   float64\n",
      " 4   Adj Close  1581 non-null   float64\n",
      " 5   Volume     1581 non-null   int64  \n",
      "dtypes: float64(5), int64(1)\n",
      "memory usage: 86.5 KB\n"
     ]
    }
   ],
   "source": [
    "bse_data.info()"
   ]
  },
  {
   "cell_type": "code",
   "execution_count": 7,
   "metadata": {},
   "outputs": [
    {
     "data": {
      "text/html": [
       "<div>\n",
       "<style scoped>\n",
       "    .dataframe tbody tr th:only-of-type {\n",
       "        vertical-align: middle;\n",
       "    }\n",
       "\n",
       "    .dataframe tbody tr th {\n",
       "        vertical-align: top;\n",
       "    }\n",
       "\n",
       "    .dataframe thead th {\n",
       "        text-align: right;\n",
       "    }\n",
       "</style>\n",
       "<table border=\"1\" class=\"dataframe\">\n",
       "  <thead>\n",
       "    <tr style=\"text-align: right;\">\n",
       "      <th></th>\n",
       "      <th>Open</th>\n",
       "      <th>High</th>\n",
       "      <th>Low</th>\n",
       "      <th>Close</th>\n",
       "      <th>Adj Close</th>\n",
       "      <th>Volume</th>\n",
       "    </tr>\n",
       "  </thead>\n",
       "  <tbody>\n",
       "    <tr>\n",
       "      <th>count</th>\n",
       "      <td>1581.000000</td>\n",
       "      <td>1581.000000</td>\n",
       "      <td>1581.000000</td>\n",
       "      <td>1581.000000</td>\n",
       "      <td>1581.000000</td>\n",
       "      <td>1.581000e+03</td>\n",
       "    </tr>\n",
       "    <tr>\n",
       "      <th>mean</th>\n",
       "      <td>33929.506262</td>\n",
       "      <td>34091.562367</td>\n",
       "      <td>33683.552379</td>\n",
       "      <td>33882.090860</td>\n",
       "      <td>33882.090860</td>\n",
       "      <td>2.157274e+05</td>\n",
       "    </tr>\n",
       "    <tr>\n",
       "      <th>std</th>\n",
       "      <td>6765.937744</td>\n",
       "      <td>6793.942855</td>\n",
       "      <td>6712.109424</td>\n",
       "      <td>6758.232844</td>\n",
       "      <td>6758.232844</td>\n",
       "      <td>1.875435e+06</td>\n",
       "    </tr>\n",
       "    <tr>\n",
       "      <th>min</th>\n",
       "      <td>23060.390625</td>\n",
       "      <td>23142.960938</td>\n",
       "      <td>22494.609375</td>\n",
       "      <td>22951.830078</td>\n",
       "      <td>22951.830078</td>\n",
       "      <td>1.000000e+02</td>\n",
       "    </tr>\n",
       "    <tr>\n",
       "      <th>25%</th>\n",
       "      <td>28042.619141</td>\n",
       "      <td>28161.169922</td>\n",
       "      <td>27853.960938</td>\n",
       "      <td>28024.330078</td>\n",
       "      <td>28024.330078</td>\n",
       "      <td>1.040000e+04</td>\n",
       "    </tr>\n",
       "    <tr>\n",
       "      <th>50%</th>\n",
       "      <td>33542.500000</td>\n",
       "      <td>33733.710938</td>\n",
       "      <td>33332.960938</td>\n",
       "      <td>33573.218750</td>\n",
       "      <td>33573.218750</td>\n",
       "      <td>1.350000e+04</td>\n",
       "    </tr>\n",
       "    <tr>\n",
       "      <th>75%</th>\n",
       "      <td>38168.421875</td>\n",
       "      <td>38333.519531</td>\n",
       "      <td>37846.101562</td>\n",
       "      <td>38090.640625</td>\n",
       "      <td>38090.640625</td>\n",
       "      <td>1.850000e+04</td>\n",
       "    </tr>\n",
       "    <tr>\n",
       "      <th>max</th>\n",
       "      <td>52477.191406</td>\n",
       "      <td>52641.531250</td>\n",
       "      <td>52388.949219</td>\n",
       "      <td>52474.761719</td>\n",
       "      <td>52474.761719</td>\n",
       "      <td>3.181510e+07</td>\n",
       "    </tr>\n",
       "  </tbody>\n",
       "</table>\n",
       "</div>"
      ],
      "text/plain": [
       "               Open          High           Low         Close     Adj Close  \\\n",
       "count   1581.000000   1581.000000   1581.000000   1581.000000   1581.000000   \n",
       "mean   33929.506262  34091.562367  33683.552379  33882.090860  33882.090860   \n",
       "std     6765.937744   6793.942855   6712.109424   6758.232844   6758.232844   \n",
       "min    23060.390625  23142.960938  22494.609375  22951.830078  22951.830078   \n",
       "25%    28042.619141  28161.169922  27853.960938  28024.330078  28024.330078   \n",
       "50%    33542.500000  33733.710938  33332.960938  33573.218750  33573.218750   \n",
       "75%    38168.421875  38333.519531  37846.101562  38090.640625  38090.640625   \n",
       "max    52477.191406  52641.531250  52388.949219  52474.761719  52474.761719   \n",
       "\n",
       "             Volume  \n",
       "count  1.581000e+03  \n",
       "mean   2.157274e+05  \n",
       "std    1.875435e+06  \n",
       "min    1.000000e+02  \n",
       "25%    1.040000e+04  \n",
       "50%    1.350000e+04  \n",
       "75%    1.850000e+04  \n",
       "max    3.181510e+07  "
      ]
     },
     "execution_count": 7,
     "metadata": {},
     "output_type": "execute_result"
    }
   ],
   "source": [
    "bse_data.describe()"
   ]
  },
  {
   "cell_type": "markdown",
   "metadata": {},
   "source": [
    "##### Checking the missing values in the data"
   ]
  },
  {
   "cell_type": "code",
   "execution_count": 8,
   "metadata": {},
   "outputs": [
    {
     "data": {
      "text/plain": [
       "Open         0\n",
       "High         0\n",
       "Low          0\n",
       "Close        0\n",
       "Adj Close    0\n",
       "Volume       0\n",
       "dtype: int64"
      ]
     },
     "execution_count": 8,
     "metadata": {},
     "output_type": "execute_result"
    }
   ],
   "source": [
    "bse_data.isnull().sum()"
   ]
  },
  {
   "cell_type": "markdown",
   "metadata": {},
   "source": [
    "##### Plotting the Opening and Closing Price "
   ]
  },
  {
   "cell_type": "code",
   "execution_count": 9,
   "metadata": {},
   "outputs": [
    {
     "data": {
      "text/plain": [
       "Text(0, 0.5, 'Price')"
      ]
     },
     "execution_count": 9,
     "metadata": {},
     "output_type": "execute_result"
    },
    {
     "data": {
      "image/png": "[encoded data removed]",
      "text/plain": [
       "<Figure size 720x720 with 2 Axes>"
      ]
     },
     "metadata": {
      "needs_background": "light"
     },
     "output_type": "display_data"
    }
   ],
   "source": [
    "plt.figure(figsize = (10, 10))\n",
    "plt.subplot(1, 2, 1)\n",
    "plt.plot(bse_data['Open'], 'b')\n",
    "plt.title('Open Price')\n",
    "plt.ylabel('Price')\n",
    "\n",
    "plt.subplot(1, 2, 2)\n",
    "plt.plot(bse_data['Close'], 'r')\n",
    "plt.title('Close Price')\n",
    "plt.ylabel('Price')"
   ]
  },
  {
   "cell_type": "markdown",
   "metadata": {},
   "source": [
    "#### 300 EMA vs 300 SMA"
   ]
  },
  {
   "cell_type": "markdown",
   "metadata": {},
   "source": [
    "EMA : Exponential Moving Average(EMA) is a indicator that tracks the investment over time. EMA is type of moving average which give more weighting and importance to recent price data."
   ]
  },
  {
   "cell_type": "markdown",
   "metadata": {},
   "source": [
    "SMA: Simple Moving Average(SMA) is an arithmetic moving average calculated by adding the recent prices and dividing them by number of time periods in calucating average."
   ]
  },
  {
   "cell_type": "code",
   "execution_count": 10,
   "metadata": {},
   "outputs": [
    {
     "data": {
      "image/png": "[encoded data removed]",
      "text/plain": [
       "<Figure size 1080x1080 with 1 Axes>"
      ]
     },
     "metadata": {
      "needs_background": "light"
     },
     "output_type": "display_data"
    }
   ],
   "source": [
    "# Visualizing the EMA and SMA of 300 days\n",
    "bse_data.ewm(span = 300).mean()['Close'].plot(figsize = (15, 15), label = '300 EMA')\n",
    "bse_data.rolling(window = 300).mean()['Close'].plot(figsize = (15, 15), label = '300 SMA')\n",
    "bse_data['Close'].plot(label = 'Close')\n",
    "plt.legend()\n",
    "plt.ylabel('Price')\n",
    "plt.show()"
   ]
  },
  {
   "cell_type": "code",
   "execution_count": 11,
   "metadata": {},
   "outputs": [
    {
     "data": {
      "text/html": [
       "<div>\n",
       "<style scoped>\n",
       "    .dataframe tbody tr th:only-of-type {\n",
       "        vertical-align: middle;\n",
       "    }\n",
       "\n",
       "    .dataframe tbody tr th {\n",
       "        vertical-align: top;\n",
       "    }\n",
       "\n",
       "    .dataframe thead th {\n",
       "        text-align: right;\n",
       "    }\n",
       "</style>\n",
       "<table border=\"1\" class=\"dataframe\">\n",
       "  <thead>\n",
       "    <tr style=\"text-align: right;\">\n",
       "      <th></th>\n",
       "      <th>Close</th>\n",
       "    </tr>\n",
       "    <tr>\n",
       "      <th>Date</th>\n",
       "      <th></th>\n",
       "    </tr>\n",
       "  </thead>\n",
       "  <tbody>\n",
       "    <tr>\n",
       "      <th>2015-01-02</th>\n",
       "      <td>27887.900391</td>\n",
       "    </tr>\n",
       "    <tr>\n",
       "      <th>2015-01-05</th>\n",
       "      <td>27842.320312</td>\n",
       "    </tr>\n",
       "    <tr>\n",
       "      <th>2015-01-06</th>\n",
       "      <td>26987.460938</td>\n",
       "    </tr>\n",
       "    <tr>\n",
       "      <th>2015-01-07</th>\n",
       "      <td>26908.820312</td>\n",
       "    </tr>\n",
       "    <tr>\n",
       "      <th>2015-01-08</th>\n",
       "      <td>27274.710938</td>\n",
       "    </tr>\n",
       "    <tr>\n",
       "      <th>...</th>\n",
       "      <td>...</td>\n",
       "    </tr>\n",
       "    <tr>\n",
       "      <th>2021-06-07</th>\n",
       "      <td>52328.511719</td>\n",
       "    </tr>\n",
       "    <tr>\n",
       "      <th>2021-06-08</th>\n",
       "      <td>52275.570312</td>\n",
       "    </tr>\n",
       "    <tr>\n",
       "      <th>2021-06-09</th>\n",
       "      <td>51941.640625</td>\n",
       "    </tr>\n",
       "    <tr>\n",
       "      <th>2021-06-10</th>\n",
       "      <td>52300.468750</td>\n",
       "    </tr>\n",
       "    <tr>\n",
       "      <th>2021-06-11</th>\n",
       "      <td>52474.761719</td>\n",
       "    </tr>\n",
       "  </tbody>\n",
       "</table>\n",
       "<p>1581 rows × 1 columns</p>\n",
       "</div>"
      ],
      "text/plain": [
       "                   Close\n",
       "Date                    \n",
       "2015-01-02  27887.900391\n",
       "2015-01-05  27842.320312\n",
       "2015-01-06  26987.460938\n",
       "2015-01-07  26908.820312\n",
       "2015-01-08  27274.710938\n",
       "...                  ...\n",
       "2021-06-07  52328.511719\n",
       "2021-06-08  52275.570312\n",
       "2021-06-09  51941.640625\n",
       "2021-06-10  52300.468750\n",
       "2021-06-11  52474.761719\n",
       "\n",
       "[1581 rows x 1 columns]"
      ]
     },
     "execution_count": 11,
     "metadata": {},
     "output_type": "execute_result"
    }
   ],
   "source": [
    "training_close = bse_data.loc[:, ['Close']]\n",
    "training_close"
   ]
  },
  {
   "cell_type": "code",
   "execution_count": 12,
   "metadata": {},
   "outputs": [
    {
     "data": {
      "text/plain": [
       "<matplotlib.axes._subplots.AxesSubplot at 0x24a6eaa0a00>"
      ]
     },
     "execution_count": 12,
     "metadata": {},
     "output_type": "execute_result"
    },
    {
     "data": {
      "image/png": "[encoded data removed]",
      "text/plain": [
       "<Figure size 432x288 with 1 Axes>"
      ]
     },
     "metadata": {
      "needs_background": "light"
     },
     "output_type": "display_data"
    }
   ],
   "source": [
    "# Plotting the Close price\n",
    "training_close.plot()"
   ]
  },
  {
   "cell_type": "code",
   "execution_count": 13,
   "metadata": {},
   "outputs": [
    {
     "name": "stdout",
     "output_type": "stream",
     "text": [
      "(1581, 1)\n"
     ]
    }
   ],
   "source": [
    "# Processing the Closing price\n",
    "from sklearn.preprocessing import MinMaxScaler\n",
    "\n",
    "scaler = MinMaxScaler(feature_range = (0, 1))\n",
    "training = scaler.fit_transform(np.array(training_close).reshape(-1, 1))\n",
    "print(training.shape)"
   ]
  },
  {
   "cell_type": "code",
   "execution_count": 14,
   "metadata": {},
   "outputs": [
    {
     "name": "stdout",
     "output_type": "stream",
     "text": [
      "(1106, 1)\n",
      "(475, 1)\n"
     ]
    }
   ],
   "source": [
    "train_size = int(len(training) * 0.7)\n",
    "\n",
    "train = training[0:train_size]\n",
    "test = training[train_size:]\n",
    "\n",
    "print(train.shape)\n",
    "print(test.shape)"
   ]
  },
  {
   "cell_type": "code",
   "execution_count": 15,
   "metadata": {},
   "outputs": [
    {
     "data": {
      "text/plain": [
       "<matplotlib.legend.Legend at 0x24a6ee04af0>"
      ]
     },
     "execution_count": 15,
     "metadata": {},
     "output_type": "execute_result"
    },
    {
     "data": {
      "image/png": "[encoded data removed]",
      "text/plain": [
       "<Figure size 1440x1440 with 1 Axes>"
      ]
     },
     "metadata": {
      "needs_background": "light"
     },
     "output_type": "display_data"
    }
   ],
   "source": [
    "test_plot = np.empty_like(training)\n",
    "test_plot[:, :] = np.nan\n",
    "test_plot[len(train):, :] = test\n",
    "\n",
    "plt.figure(figsize = (20, 20))\n",
    "plt.plot(train, 'blue', label = 'train')\n",
    "plt.plot(test_plot, 'red', label = 'test')\n",
    "plt.legend(loc = 'upper left', fontsize = 25)"
   ]
  },
  {
   "cell_type": "markdown",
   "metadata": {},
   "source": [
    "##### Data PreProcessing"
   ]
  },
  {
   "cell_type": "code",
   "execution_count": 16,
   "metadata": {},
   "outputs": [],
   "source": [
    "def values(dataset, timestep):\n",
    "    x = []\n",
    "    y = []\n",
    "    for i in range(len(dataset)-timestep-1):\n",
    "        x.append(dataset[i:(i + timestep), 0])\n",
    "        y.append(dataset[i + timestep, 0])\n",
    "    return np.array(x), np.array(y)"
   ]
  },
  {
   "cell_type": "code",
   "execution_count": 17,
   "metadata": {},
   "outputs": [],
   "source": [
    "X_train, Y_train = values(train, 100)\n",
    "X_test, Y_test = values(test, 100)"
   ]
  },
  {
   "cell_type": "code",
   "execution_count": 18,
   "metadata": {},
   "outputs": [
    {
     "name": "stdout",
     "output_type": "stream",
     "text": [
      "(1005, 100)\n",
      "(374, 100)\n",
      "(1005,)\n",
      "(374,)\n"
     ]
    }
   ],
   "source": [
    "print(X_train.shape)\n",
    "print(X_test.shape)\n",
    "print(Y_train.shape)\n",
    "print(Y_test.shape)"
   ]
  },
  {
   "cell_type": "code",
   "execution_count": 19,
   "metadata": {},
   "outputs": [
    {
     "data": {
      "text/plain": [
       "(374, 100, 1)"
      ]
     },
     "execution_count": 19,
     "metadata": {},
     "output_type": "execute_result"
    }
   ],
   "source": [
    "X_train = X_train.reshape(X_train.shape[0], X_train.shape[1], 1)\n",
    "X_test = X_test.reshape(X_test.shape[0], X_test.shape[1], 1)\n",
    "X_test.shape"
   ]
  },
  {
   "cell_type": "markdown",
   "metadata": {},
   "source": [
    "##### Model Building"
   ]
  },
  {
   "cell_type": "code",
   "execution_count": 20,
   "metadata": {},
   "outputs": [
    {
     "name": "stdout",
     "output_type": "stream",
     "text": [
      "Wall time: 45.1 s\n"
     ]
    }
   ],
   "source": [
    "%%time\n",
    "from keras.models import Sequential\n",
    "from keras.layers import LSTM, Dense, Dropout\n",
    "\n",
    "model = Sequential()\n",
    "model.add(LSTM(50, return_sequences =True, input_shape = (X_train.shape[1], 1)))\n",
    "model.add(Dropout(0.3))\n",
    "\n",
    "model.add(LSTM(50, return_sequences = True))\n",
    "model.add(Dropout(0.3))\n",
    "\n",
    "model.add(LSTM(50, return_sequences = True))\n",
    "model.add(Dropout(0.3))\n",
    "\n",
    "model.add(LSTM(50))\n",
    "model.add(Dropout(0.3))\n",
    "\n",
    "model.add(Dense(units = 1))\n",
    "\n",
    "model.compile(optimizer = 'adam', loss = 'mean_squared_error')"
   ]
  },
  {
   "cell_type": "code",
   "execution_count": 21,
   "metadata": {},
   "outputs": [
    {
     "name": "stdout",
     "output_type": "stream",
     "text": [
      "Epoch 1/10\n",
      "32/32 [==============================] - 21s 206ms/step - loss: 0.0380\n",
      "Epoch 2/10\n",
      "32/32 [==============================] - 6s 195ms/step - loss: 0.0031\n",
      "Epoch 3/10\n",
      "32/32 [==============================] - 6s 194ms/step - loss: 0.0023\n",
      "Epoch 4/10\n",
      "32/32 [==============================] - 6s 197ms/step - loss: 0.0028\n",
      "Epoch 5/10\n",
      "32/32 [==============================] - 6s 198ms/step - loss: 0.0021\n",
      "Epoch 6/10\n",
      "32/32 [==============================] - 6s 196ms/step - loss: 0.0022\n",
      "Epoch 7/10\n",
      "32/32 [==============================] - 6s 195ms/step - loss: 0.0022\n",
      "Epoch 8/10\n",
      "32/32 [==============================] - 6s 194ms/step - loss: 0.0017\n",
      "Epoch 9/10\n",
      "32/32 [==============================] - 6s 193ms/step - loss: 0.0019\n",
      "Epoch 10/10\n",
      "32/32 [==============================] - 6s 196ms/step - loss: 0.0022\n",
      "Wall time: 1min 18s\n"
     ]
    },
    {
     "data": {
      "text/plain": [
       "<tensorflow.python.keras.callbacks.History at 0x24a778471f0>"
      ]
     },
     "execution_count": 21,
     "metadata": {},
     "output_type": "execute_result"
    }
   ],
   "source": [
    "%%time\n",
    "model.fit(X_train, Y_train, epochs = 10, batch_size = 32)"
   ]
  },
  {
   "cell_type": "code",
   "execution_count": 22,
   "metadata": {},
   "outputs": [
    {
     "name": "stdout",
     "output_type": "stream",
     "text": [
      "Model: \"sequential\"\n",
      "_________________________________________________________________\n",
      "Layer (type)                 Output Shape              Param #   \n",
      "=================================================================\n",
      "lstm (LSTM)                  (None, 100, 50)           10400     \n",
      "_________________________________________________________________\n",
      "dropout (Dropout)            (None, 100, 50)           0         \n",
      "_________________________________________________________________\n",
      "lstm_1 (LSTM)                (None, 100, 50)           20200     \n",
      "_________________________________________________________________\n",
      "dropout_1 (Dropout)          (None, 100, 50)           0         \n",
      "_________________________________________________________________\n",
      "lstm_2 (LSTM)                (None, 100, 50)           20200     \n",
      "_________________________________________________________________\n",
      "dropout_2 (Dropout)          (None, 100, 50)           0         \n",
      "_________________________________________________________________\n",
      "lstm_3 (LSTM)                (None, 50)                20200     \n",
      "_________________________________________________________________\n",
      "dropout_3 (Dropout)          (None, 50)                0         \n",
      "_________________________________________________________________\n",
      "dense (Dense)                (None, 1)                 51        \n",
      "=================================================================\n",
      "Total params: 71,051\n",
      "Trainable params: 71,051\n",
      "Non-trainable params: 0\n",
      "_________________________________________________________________\n"
     ]
    }
   ],
   "source": [
    "model.summary()"
   ]
  },
  {
   "cell_type": "code",
   "execution_count": 23,
   "metadata": {},
   "outputs": [
    {
     "name": "stdout",
     "output_type": "stream",
     "text": [
      "Wall time: 6.23 s\n"
     ]
    }
   ],
   "source": [
    "%%time\n",
    "train_predict = model.predict(X_train)\n",
    "test_predict = model.predict(X_test)"
   ]
  },
  {
   "cell_type": "code",
   "execution_count": 24,
   "metadata": {},
   "outputs": [
    {
     "data": {
      "text/plain": [
       "0.013765492329892246"
      ]
     },
     "execution_count": 24,
     "metadata": {},
     "output_type": "execute_result"
    }
   ],
   "source": [
    "from sklearn.metrics import mean_squared_error\n",
    "\n",
    "mean_squared_error(Y_test, test_predict)"
   ]
  },
  {
   "cell_type": "code",
   "execution_count": 25,
   "metadata": {},
   "outputs": [],
   "source": [
    "train_predict = scaler.inverse_transform(train_predict)\n",
    "test_predict = scaler.inverse_transform(test_predict)"
   ]
  },
  {
   "cell_type": "code",
   "execution_count": 26,
   "metadata": {},
   "outputs": [
    {
     "data": {
      "image/png": "[encoded data removed]",
      "text/plain": [
       "<Figure size 1080x1080 with 1 Axes>"
      ]
     },
     "metadata": {
      "needs_background": "light"
     },
     "output_type": "display_data"
    }
   ],
   "source": [
    "plt.figure(figsize = (15, 15))\n",
    "plt.plot(test_predict, color = 'red', label = 'Predicted Price')\n",
    "plt.plot(scaler.inverse_transform(Y_test.reshape(-1, 1)), color = 'blue', label = 'Actual Price')\n",
    "plt.legend(fontsize = 20)\n",
    "plt.show()"
   ]
  },
  {
   "cell_type": "markdown",
   "metadata": {},
   "source": [
    "##### Processing to predict the stocks "
   ]
  },
  {
   "cell_type": "code",
   "execution_count": 27,
   "metadata": {},
   "outputs": [
    {
     "data": {
      "text/plain": [
       "100"
      ]
     },
     "execution_count": 27,
     "metadata": {},
     "output_type": "execute_result"
    }
   ],
   "source": [
    "x_input = test[len(test) - 100:, ].reshape(1, -1)\n",
    "\n",
    "temp = list(x_input)\n",
    "temp = temp[0].tolist()\n",
    "len(temp)"
   ]
  },
  {
   "cell_type": "code",
   "execution_count": 28,
   "metadata": {},
   "outputs": [
    {
     "name": "stdout",
     "output_type": "stream",
     "text": [
      "[0.8021009]\n",
      "101\n",
      "1 day input [0.90208962 0.88347736 0.86754391 0.8957938  0.90913366 0.90346487\n",
      " 0.87818884 0.86020454 0.82844414 0.81030331 0.79036661 0.86877481\n",
      " 0.90932327 0.92483769 0.93698212 0.94095665 0.96186042 0.96119343\n",
      " 0.96052658 0.96805052 0.96848345 0.98913953 0.98744739 0.97388696\n",
      " 0.96104485 0.94631292 0.90751456 0.9077547  0.94265236 0.95137837\n",
      " 0.88568976 0.91108871 0.9262312  0.96510803 0.94483327 0.92990393\n",
      " 0.93111486 0.95090998 0.95951452 0.94300418 0.92955701 0.92850301\n",
      " 0.90945545 0.8896369  0.91137318 0.90842804 0.91791736 0.88841037\n",
      " 0.86333875 0.88259087 0.9208011  0.89954882 0.91718527 0.88769945\n",
      " 0.88912446 0.90471813 0.9075786  0.90233215 0.8444808  0.86685932\n",
      " 0.8756532  0.87661352 0.8467178  0.83846587 0.8511635  0.84431382\n",
      " 0.8615229  0.88041089 0.90715956 0.90824691 0.87493104 0.87276866\n",
      " 0.85701793 0.87138097 0.88060129 0.89932058 0.88778373 0.87182977\n",
      " 0.87324392 0.90197345 0.92272334 0.91287718 0.90143586 0.93448207\n",
      " 0.93825602 0.93776938 0.95064033 0.95394959 0.96437065 0.9817999\n",
      " 0.9817131  0.97882049 0.99179174 0.9873078  0.99504622 0.99325299\n",
      " 0.98194214 0.99409635 1.         0.8021009 ]\n",
      "1 day output [[0.80491984]]\n",
      "2 day input [0.88347736 0.86754391 0.8957938  0.90913366 0.90346487 0.87818884\n",
      " 0.86020454 0.82844414 0.81030331 0.79036661 0.86877481 0.90932327\n",
      " 0.92483769 0.93698212 0.94095665 0.96186042 0.96119343 0.96052658\n",
      " 0.96805052 0.96848345 0.98913953 0.98744739 0.97388696 0.96104485\n",
      " 0.94631292 0.90751456 0.9077547  0.94265236 0.95137837 0.88568976\n",
      " 0.91108871 0.9262312  0.96510803 0.94483327 0.92990393 0.93111486\n",
      " 0.95090998 0.95951452 0.94300418 0.92955701 0.92850301 0.90945545\n",
      " 0.8896369  0.91137318 0.90842804 0.91791736 0.88841037 0.86333875\n",
      " 0.88259087 0.9208011  0.89954882 0.91718527 0.88769945 0.88912446\n",
      " 0.90471813 0.9075786  0.90233215 0.8444808  0.86685932 0.8756532\n",
      " 0.87661352 0.8467178  0.83846587 0.8511635  0.84431382 0.8615229\n",
      " 0.88041089 0.90715956 0.90824691 0.87493104 0.87276866 0.85701793\n",
      " 0.87138097 0.88060129 0.89932058 0.88778373 0.87182977 0.87324392\n",
      " 0.90197345 0.92272334 0.91287718 0.90143586 0.93448207 0.93825602\n",
      " 0.93776938 0.95064033 0.95394959 0.96437065 0.9817999  0.9817131\n",
      " 0.97882049 0.99179174 0.9873078  0.99504622 0.99325299 0.98194214\n",
      " 0.99409635 1.         0.8021009  0.80491984]\n",
      "2 day output [[0.8065064]]\n",
      "3 day input [0.86754391 0.8957938  0.90913366 0.90346487 0.87818884 0.86020454\n",
      " 0.82844414 0.81030331 0.79036661 0.86877481 0.90932327 0.92483769\n",
      " 0.93698212 0.94095665 0.96186042 0.96119343 0.96052658 0.96805052\n",
      " 0.96848345 0.98913953 0.98744739 0.97388696 0.96104485 0.94631292\n",
      " 0.90751456 0.9077547  0.94265236 0.95137837 0.88568976 0.91108871\n",
      " 0.9262312  0.96510803 0.94483327 0.92990393 0.93111486 0.95090998\n",
      " 0.95951452 0.94300418 0.92955701 0.92850301 0.90945545 0.8896369\n",
      " 0.91137318 0.90842804 0.91791736 0.88841037 0.86333875 0.88259087\n",
      " 0.9208011  0.89954882 0.91718527 0.88769945 0.88912446 0.90471813\n",
      " 0.9075786  0.90233215 0.8444808  0.86685932 0.8756532  0.87661352\n",
      " 0.8467178  0.83846587 0.8511635  0.84431382 0.8615229  0.88041089\n",
      " 0.90715956 0.90824691 0.87493104 0.87276866 0.85701793 0.87138097\n",
      " 0.88060129 0.89932058 0.88778373 0.87182977 0.87324392 0.90197345\n",
      " 0.92272334 0.91287718 0.90143586 0.93448207 0.93825602 0.93776938\n",
      " 0.95064033 0.95394959 0.96437065 0.9817999  0.9817131  0.97882049\n",
      " 0.99179174 0.9873078  0.99504622 0.99325299 0.98194214 0.99409635\n",
      " 1.         0.8021009  0.80491984 0.8065064 ]\n",
      "3 day output [[0.8065165]]\n",
      "4 day input [0.8957938  0.90913366 0.90346487 0.87818884 0.86020454 0.82844414\n",
      " 0.81030331 0.79036661 0.86877481 0.90932327 0.92483769 0.93698212\n",
      " 0.94095665 0.96186042 0.96119343 0.96052658 0.96805052 0.96848345\n",
      " 0.98913953 0.98744739 0.97388696 0.96104485 0.94631292 0.90751456\n",
      " 0.9077547  0.94265236 0.95137837 0.88568976 0.91108871 0.9262312\n",
      " 0.96510803 0.94483327 0.92990393 0.93111486 0.95090998 0.95951452\n",
      " 0.94300418 0.92955701 0.92850301 0.90945545 0.8896369  0.91137318\n",
      " 0.90842804 0.91791736 0.88841037 0.86333875 0.88259087 0.9208011\n",
      " 0.89954882 0.91718527 0.88769945 0.88912446 0.90471813 0.9075786\n",
      " 0.90233215 0.8444808  0.86685932 0.8756532  0.87661352 0.8467178\n",
      " 0.83846587 0.8511635  0.84431382 0.8615229  0.88041089 0.90715956\n",
      " 0.90824691 0.87493104 0.87276866 0.85701793 0.87138097 0.88060129\n",
      " 0.89932058 0.88778373 0.87182977 0.87324392 0.90197345 0.92272334\n",
      " 0.91287718 0.90143586 0.93448207 0.93825602 0.93776938 0.95064033\n",
      " 0.95394959 0.96437065 0.9817999  0.9817131  0.97882049 0.99179174\n",
      " 0.9873078  0.99504622 0.99325299 0.98194214 0.99409635 1.\n",
      " 0.8021009  0.80491984 0.8065064  0.80651653]\n",
      "4 day output [[0.80480486]]\n",
      "5 day input [0.90913366 0.90346487 0.87818884 0.86020454 0.82844414 0.81030331\n",
      " 0.79036661 0.86877481 0.90932327 0.92483769 0.93698212 0.94095665\n",
      " 0.96186042 0.96119343 0.96052658 0.96805052 0.96848345 0.98913953\n",
      " 0.98744739 0.97388696 0.96104485 0.94631292 0.90751456 0.9077547\n",
      " 0.94265236 0.95137837 0.88568976 0.91108871 0.9262312  0.96510803\n",
      " 0.94483327 0.92990393 0.93111486 0.95090998 0.95951452 0.94300418\n",
      " 0.92955701 0.92850301 0.90945545 0.8896369  0.91137318 0.90842804\n",
      " 0.91791736 0.88841037 0.86333875 0.88259087 0.9208011  0.89954882\n",
      " 0.91718527 0.88769945 0.88912446 0.90471813 0.9075786  0.90233215\n",
      " 0.8444808  0.86685932 0.8756532  0.87661352 0.8467178  0.83846587\n",
      " 0.8511635  0.84431382 0.8615229  0.88041089 0.90715956 0.90824691\n",
      " 0.87493104 0.87276866 0.85701793 0.87138097 0.88060129 0.89932058\n",
      " 0.88778373 0.87182977 0.87324392 0.90197345 0.92272334 0.91287718\n",
      " 0.90143586 0.93448207 0.93825602 0.93776938 0.95064033 0.95394959\n",
      " 0.96437065 0.9817999  0.9817131  0.97882049 0.99179174 0.9873078\n",
      " 0.99504622 0.99325299 0.98194214 0.99409635 1.         0.8021009\n",
      " 0.80491984 0.8065064  0.80651653 0.80480486]\n",
      "5 day output [[0.801405]]\n",
      "6 day input [0.90346487 0.87818884 0.86020454 0.82844414 0.81030331 0.79036661\n",
      " 0.86877481 0.90932327 0.92483769 0.93698212 0.94095665 0.96186042\n",
      " 0.96119343 0.96052658 0.96805052 0.96848345 0.98913953 0.98744739\n",
      " 0.97388696 0.96104485 0.94631292 0.90751456 0.9077547  0.94265236\n",
      " 0.95137837 0.88568976 0.91108871 0.9262312  0.96510803 0.94483327\n",
      " 0.92990393 0.93111486 0.95090998 0.95951452 0.94300418 0.92955701\n",
      " 0.92850301 0.90945545 0.8896369  0.91137318 0.90842804 0.91791736\n",
      " 0.88841037 0.86333875 0.88259087 0.9208011  0.89954882 0.91718527\n",
      " 0.88769945 0.88912446 0.90471813 0.9075786  0.90233215 0.8444808\n",
      " 0.86685932 0.8756532  0.87661352 0.8467178  0.83846587 0.8511635\n",
      " 0.84431382 0.8615229  0.88041089 0.90715956 0.90824691 0.87493104\n",
      " 0.87276866 0.85701793 0.87138097 0.88060129 0.89932058 0.88778373\n",
      " 0.87182977 0.87324392 0.90197345 0.92272334 0.91287718 0.90143586\n",
      " 0.93448207 0.93825602 0.93776938 0.95064033 0.95394959 0.96437065\n",
      " 0.9817999  0.9817131  0.97882049 0.99179174 0.9873078  0.99504622\n",
      " 0.99325299 0.98194214 0.99409635 1.         0.8021009  0.80491984\n",
      " 0.8065064  0.80651653 0.80480486 0.80140501]\n",
      "6 day output [[0.79648274]]\n",
      "7 day input [0.87818884 0.86020454 0.82844414 0.81030331 0.79036661 0.86877481\n",
      " 0.90932327 0.92483769 0.93698212 0.94095665 0.96186042 0.96119343\n",
      " 0.96052658 0.96805052 0.96848345 0.98913953 0.98744739 0.97388696\n",
      " 0.96104485 0.94631292 0.90751456 0.9077547  0.94265236 0.95137837\n",
      " 0.88568976 0.91108871 0.9262312  0.96510803 0.94483327 0.92990393\n",
      " 0.93111486 0.95090998 0.95951452 0.94300418 0.92955701 0.92850301\n",
      " 0.90945545 0.8896369  0.91137318 0.90842804 0.91791736 0.88841037\n",
      " 0.86333875 0.88259087 0.9208011  0.89954882 0.91718527 0.88769945\n",
      " 0.88912446 0.90471813 0.9075786  0.90233215 0.8444808  0.86685932\n",
      " 0.8756532  0.87661352 0.8467178  0.83846587 0.8511635  0.84431382\n",
      " 0.8615229  0.88041089 0.90715956 0.90824691 0.87493104 0.87276866\n",
      " 0.85701793 0.87138097 0.88060129 0.89932058 0.88778373 0.87182977\n",
      " 0.87324392 0.90197345 0.92272334 0.91287718 0.90143586 0.93448207\n",
      " 0.93825602 0.93776938 0.95064033 0.95394959 0.96437065 0.9817999\n",
      " 0.9817131  0.97882049 0.99179174 0.9873078  0.99504622 0.99325299\n",
      " 0.98194214 0.99409635 1.         0.8021009  0.80491984 0.8065064\n",
      " 0.80651653 0.80480486 0.80140501 0.79648274]\n",
      "7 day output [[0.790285]]\n",
      "8 day input [0.86020454 0.82844414 0.81030331 0.79036661 0.86877481 0.90932327\n",
      " 0.92483769 0.93698212 0.94095665 0.96186042 0.96119343 0.96052658\n",
      " 0.96805052 0.96848345 0.98913953 0.98744739 0.97388696 0.96104485\n",
      " 0.94631292 0.90751456 0.9077547  0.94265236 0.95137837 0.88568976\n",
      " 0.91108871 0.9262312  0.96510803 0.94483327 0.92990393 0.93111486\n",
      " 0.95090998 0.95951452 0.94300418 0.92955701 0.92850301 0.90945545\n",
      " 0.8896369  0.91137318 0.90842804 0.91791736 0.88841037 0.86333875\n",
      " 0.88259087 0.9208011  0.89954882 0.91718527 0.88769945 0.88912446\n",
      " 0.90471813 0.9075786  0.90233215 0.8444808  0.86685932 0.8756532\n",
      " 0.87661352 0.8467178  0.83846587 0.8511635  0.84431382 0.8615229\n",
      " 0.88041089 0.90715956 0.90824691 0.87493104 0.87276866 0.85701793\n",
      " 0.87138097 0.88060129 0.89932058 0.88778373 0.87182977 0.87324392\n",
      " 0.90197345 0.92272334 0.91287718 0.90143586 0.93448207 0.93825602\n",
      " 0.93776938 0.95064033 0.95394959 0.96437065 0.9817999  0.9817131\n",
      " 0.97882049 0.99179174 0.9873078  0.99504622 0.99325299 0.98194214\n",
      " 0.99409635 1.         0.8021009  0.80491984 0.8065064  0.80651653\n",
      " 0.80480486 0.80140501 0.79648274 0.79028499]\n"
     ]
    },
    {
     "name": "stdout",
     "output_type": "stream",
     "text": [
      "8 day output [[0.78309387]]\n",
      "9 day input [0.82844414 0.81030331 0.79036661 0.86877481 0.90932327 0.92483769\n",
      " 0.93698212 0.94095665 0.96186042 0.96119343 0.96052658 0.96805052\n",
      " 0.96848345 0.98913953 0.98744739 0.97388696 0.96104485 0.94631292\n",
      " 0.90751456 0.9077547  0.94265236 0.95137837 0.88568976 0.91108871\n",
      " 0.9262312  0.96510803 0.94483327 0.92990393 0.93111486 0.95090998\n",
      " 0.95951452 0.94300418 0.92955701 0.92850301 0.90945545 0.8896369\n",
      " 0.91137318 0.90842804 0.91791736 0.88841037 0.86333875 0.88259087\n",
      " 0.9208011  0.89954882 0.91718527 0.88769945 0.88912446 0.90471813\n",
      " 0.9075786  0.90233215 0.8444808  0.86685932 0.8756532  0.87661352\n",
      " 0.8467178  0.83846587 0.8511635  0.84431382 0.8615229  0.88041089\n",
      " 0.90715956 0.90824691 0.87493104 0.87276866 0.85701793 0.87138097\n",
      " 0.88060129 0.89932058 0.88778373 0.87182977 0.87324392 0.90197345\n",
      " 0.92272334 0.91287718 0.90143586 0.93448207 0.93825602 0.93776938\n",
      " 0.95064033 0.95394959 0.96437065 0.9817999  0.9817131  0.97882049\n",
      " 0.99179174 0.9873078  0.99504622 0.99325299 0.98194214 0.99409635\n",
      " 1.         0.8021009  0.80491984 0.8065064  0.80651653 0.80480486\n",
      " 0.80140501 0.79648274 0.79028499 0.78309387]\n",
      "9 day output [[0.7751916]]\n",
      "10 day input [0.81030331 0.79036661 0.86877481 0.90932327 0.92483769 0.93698212\n",
      " 0.94095665 0.96186042 0.96119343 0.96052658 0.96805052 0.96848345\n",
      " 0.98913953 0.98744739 0.97388696 0.96104485 0.94631292 0.90751456\n",
      " 0.9077547  0.94265236 0.95137837 0.88568976 0.91108871 0.9262312\n",
      " 0.96510803 0.94483327 0.92990393 0.93111486 0.95090998 0.95951452\n",
      " 0.94300418 0.92955701 0.92850301 0.90945545 0.8896369  0.91137318\n",
      " 0.90842804 0.91791736 0.88841037 0.86333875 0.88259087 0.9208011\n",
      " 0.89954882 0.91718527 0.88769945 0.88912446 0.90471813 0.9075786\n",
      " 0.90233215 0.8444808  0.86685932 0.8756532  0.87661352 0.8467178\n",
      " 0.83846587 0.8511635  0.84431382 0.8615229  0.88041089 0.90715956\n",
      " 0.90824691 0.87493104 0.87276866 0.85701793 0.87138097 0.88060129\n",
      " 0.89932058 0.88778373 0.87182977 0.87324392 0.90197345 0.92272334\n",
      " 0.91287718 0.90143586 0.93448207 0.93825602 0.93776938 0.95064033\n",
      " 0.95394959 0.96437065 0.9817999  0.9817131  0.97882049 0.99179174\n",
      " 0.9873078  0.99504622 0.99325299 0.98194214 0.99409635 1.\n",
      " 0.8021009  0.80491984 0.8065064  0.80651653 0.80480486 0.80140501\n",
      " 0.79648274 0.79028499 0.78309387 0.77519161]\n",
      "10 day output [[0.7668361]]\n",
      "11 day input [0.79036661 0.86877481 0.90932327 0.92483769 0.93698212 0.94095665\n",
      " 0.96186042 0.96119343 0.96052658 0.96805052 0.96848345 0.98913953\n",
      " 0.98744739 0.97388696 0.96104485 0.94631292 0.90751456 0.9077547\n",
      " 0.94265236 0.95137837 0.88568976 0.91108871 0.9262312  0.96510803\n",
      " 0.94483327 0.92990393 0.93111486 0.95090998 0.95951452 0.94300418\n",
      " 0.92955701 0.92850301 0.90945545 0.8896369  0.91137318 0.90842804\n",
      " 0.91791736 0.88841037 0.86333875 0.88259087 0.9208011  0.89954882\n",
      " 0.91718527 0.88769945 0.88912446 0.90471813 0.9075786  0.90233215\n",
      " 0.8444808  0.86685932 0.8756532  0.87661352 0.8467178  0.83846587\n",
      " 0.8511635  0.84431382 0.8615229  0.88041089 0.90715956 0.90824691\n",
      " 0.87493104 0.87276866 0.85701793 0.87138097 0.88060129 0.89932058\n",
      " 0.88778373 0.87182977 0.87324392 0.90197345 0.92272334 0.91287718\n",
      " 0.90143586 0.93448207 0.93825602 0.93776938 0.95064033 0.95394959\n",
      " 0.96437065 0.9817999  0.9817131  0.97882049 0.99179174 0.9873078\n",
      " 0.99504622 0.99325299 0.98194214 0.99409635 1.         0.8021009\n",
      " 0.80491984 0.8065064  0.80651653 0.80480486 0.80140501 0.79648274\n",
      " 0.79028499 0.78309387 0.77519161 0.76683611]\n",
      "11 day output [[0.75824666]]\n",
      "12 day input [0.86877481 0.90932327 0.92483769 0.93698212 0.94095665 0.96186042\n",
      " 0.96119343 0.96052658 0.96805052 0.96848345 0.98913953 0.98744739\n",
      " 0.97388696 0.96104485 0.94631292 0.90751456 0.9077547  0.94265236\n",
      " 0.95137837 0.88568976 0.91108871 0.9262312  0.96510803 0.94483327\n",
      " 0.92990393 0.93111486 0.95090998 0.95951452 0.94300418 0.92955701\n",
      " 0.92850301 0.90945545 0.8896369  0.91137318 0.90842804 0.91791736\n",
      " 0.88841037 0.86333875 0.88259087 0.9208011  0.89954882 0.91718527\n",
      " 0.88769945 0.88912446 0.90471813 0.9075786  0.90233215 0.8444808\n",
      " 0.86685932 0.8756532  0.87661352 0.8467178  0.83846587 0.8511635\n",
      " 0.84431382 0.8615229  0.88041089 0.90715956 0.90824691 0.87493104\n",
      " 0.87276866 0.85701793 0.87138097 0.88060129 0.89932058 0.88778373\n",
      " 0.87182977 0.87324392 0.90197345 0.92272334 0.91287718 0.90143586\n",
      " 0.93448207 0.93825602 0.93776938 0.95064033 0.95394959 0.96437065\n",
      " 0.9817999  0.9817131  0.97882049 0.99179174 0.9873078  0.99504622\n",
      " 0.99325299 0.98194214 0.99409635 1.         0.8021009  0.80491984\n",
      " 0.8065064  0.80651653 0.80480486 0.80140501 0.79648274 0.79028499\n",
      " 0.78309387 0.77519161 0.76683611 0.75824666]\n",
      "12 day output [[0.74959874]]\n",
      "13 day input [0.90932327 0.92483769 0.93698212 0.94095665 0.96186042 0.96119343\n",
      " 0.96052658 0.96805052 0.96848345 0.98913953 0.98744739 0.97388696\n",
      " 0.96104485 0.94631292 0.90751456 0.9077547  0.94265236 0.95137837\n",
      " 0.88568976 0.91108871 0.9262312  0.96510803 0.94483327 0.92990393\n",
      " 0.93111486 0.95090998 0.95951452 0.94300418 0.92955701 0.92850301\n",
      " 0.90945545 0.8896369  0.91137318 0.90842804 0.91791736 0.88841037\n",
      " 0.86333875 0.88259087 0.9208011  0.89954882 0.91718527 0.88769945\n",
      " 0.88912446 0.90471813 0.9075786  0.90233215 0.8444808  0.86685932\n",
      " 0.8756532  0.87661352 0.8467178  0.83846587 0.8511635  0.84431382\n",
      " 0.8615229  0.88041089 0.90715956 0.90824691 0.87493104 0.87276866\n",
      " 0.85701793 0.87138097 0.88060129 0.89932058 0.88778373 0.87182977\n",
      " 0.87324392 0.90197345 0.92272334 0.91287718 0.90143586 0.93448207\n",
      " 0.93825602 0.93776938 0.95064033 0.95394959 0.96437065 0.9817999\n",
      " 0.9817131  0.97882049 0.99179174 0.9873078  0.99504622 0.99325299\n",
      " 0.98194214 0.99409635 1.         0.8021009  0.80491984 0.8065064\n",
      " 0.80651653 0.80480486 0.80140501 0.79648274 0.79028499 0.78309387\n",
      " 0.77519161 0.76683611 0.75824666 0.74959874]\n",
      "13 day output [[0.7410228]]\n",
      "14 day input [0.92483769 0.93698212 0.94095665 0.96186042 0.96119343 0.96052658\n",
      " 0.96805052 0.96848345 0.98913953 0.98744739 0.97388696 0.96104485\n",
      " 0.94631292 0.90751456 0.9077547  0.94265236 0.95137837 0.88568976\n",
      " 0.91108871 0.9262312  0.96510803 0.94483327 0.92990393 0.93111486\n",
      " 0.95090998 0.95951452 0.94300418 0.92955701 0.92850301 0.90945545\n",
      " 0.8896369  0.91137318 0.90842804 0.91791736 0.88841037 0.86333875\n",
      " 0.88259087 0.9208011  0.89954882 0.91718527 0.88769945 0.88912446\n",
      " 0.90471813 0.9075786  0.90233215 0.8444808  0.86685932 0.8756532\n",
      " 0.87661352 0.8467178  0.83846587 0.8511635  0.84431382 0.8615229\n",
      " 0.88041089 0.90715956 0.90824691 0.87493104 0.87276866 0.85701793\n",
      " 0.87138097 0.88060129 0.89932058 0.88778373 0.87182977 0.87324392\n",
      " 0.90197345 0.92272334 0.91287718 0.90143586 0.93448207 0.93825602\n",
      " 0.93776938 0.95064033 0.95394959 0.96437065 0.9817999  0.9817131\n",
      " 0.97882049 0.99179174 0.9873078  0.99504622 0.99325299 0.98194214\n",
      " 0.99409635 1.         0.8021009  0.80491984 0.8065064  0.80651653\n",
      " 0.80480486 0.80140501 0.79648274 0.79028499 0.78309387 0.77519161\n",
      " 0.76683611 0.75824666 0.74959874 0.74102283]\n",
      "14 day output [[0.7326095]]\n",
      "15 day input [0.93698212 0.94095665 0.96186042 0.96119343 0.96052658 0.96805052\n",
      " 0.96848345 0.98913953 0.98744739 0.97388696 0.96104485 0.94631292\n",
      " 0.90751456 0.9077547  0.94265236 0.95137837 0.88568976 0.91108871\n",
      " 0.9262312  0.96510803 0.94483327 0.92990393 0.93111486 0.95090998\n",
      " 0.95951452 0.94300418 0.92955701 0.92850301 0.90945545 0.8896369\n",
      " 0.91137318 0.90842804 0.91791736 0.88841037 0.86333875 0.88259087\n",
      " 0.9208011  0.89954882 0.91718527 0.88769945 0.88912446 0.90471813\n",
      " 0.9075786  0.90233215 0.8444808  0.86685932 0.8756532  0.87661352\n",
      " 0.8467178  0.83846587 0.8511635  0.84431382 0.8615229  0.88041089\n",
      " 0.90715956 0.90824691 0.87493104 0.87276866 0.85701793 0.87138097\n",
      " 0.88060129 0.89932058 0.88778373 0.87182977 0.87324392 0.90197345\n",
      " 0.92272334 0.91287718 0.90143586 0.93448207 0.93825602 0.93776938\n",
      " 0.95064033 0.95394959 0.96437065 0.9817999  0.9817131  0.97882049\n",
      " 0.99179174 0.9873078  0.99504622 0.99325299 0.98194214 0.99409635\n",
      " 1.         0.8021009  0.80491984 0.8065064  0.80651653 0.80480486\n",
      " 0.80140501 0.79648274 0.79028499 0.78309387 0.77519161 0.76683611\n",
      " 0.75824666 0.74959874 0.74102283 0.73260951]\n",
      "15 day output [[0.7244154]]\n",
      "16 day input [0.94095665 0.96186042 0.96119343 0.96052658 0.96805052 0.96848345\n",
      " 0.98913953 0.98744739 0.97388696 0.96104485 0.94631292 0.90751456\n",
      " 0.9077547  0.94265236 0.95137837 0.88568976 0.91108871 0.9262312\n",
      " 0.96510803 0.94483327 0.92990393 0.93111486 0.95090998 0.95951452\n",
      " 0.94300418 0.92955701 0.92850301 0.90945545 0.8896369  0.91137318\n",
      " 0.90842804 0.91791736 0.88841037 0.86333875 0.88259087 0.9208011\n",
      " 0.89954882 0.91718527 0.88769945 0.88912446 0.90471813 0.9075786\n",
      " 0.90233215 0.8444808  0.86685932 0.8756532  0.87661352 0.8467178\n",
      " 0.83846587 0.8511635  0.84431382 0.8615229  0.88041089 0.90715956\n",
      " 0.90824691 0.87493104 0.87276866 0.85701793 0.87138097 0.88060129\n",
      " 0.89932058 0.88778373 0.87182977 0.87324392 0.90197345 0.92272334\n",
      " 0.91287718 0.90143586 0.93448207 0.93825602 0.93776938 0.95064033\n",
      " 0.95394959 0.96437065 0.9817999  0.9817131  0.97882049 0.99179174\n",
      " 0.9873078  0.99504622 0.99325299 0.98194214 0.99409635 1.\n",
      " 0.8021009  0.80491984 0.8065064  0.80651653 0.80480486 0.80140501\n",
      " 0.79648274 0.79028499 0.78309387 0.77519161 0.76683611 0.75824666\n",
      " 0.74959874 0.74102283 0.73260951 0.72441542]\n"
     ]
    },
    {
     "name": "stdout",
     "output_type": "stream",
     "text": [
      "16 day output [[0.71646976]]\n",
      "17 day input [0.96186042 0.96119343 0.96052658 0.96805052 0.96848345 0.98913953\n",
      " 0.98744739 0.97388696 0.96104485 0.94631292 0.90751456 0.9077547\n",
      " 0.94265236 0.95137837 0.88568976 0.91108871 0.9262312  0.96510803\n",
      " 0.94483327 0.92990393 0.93111486 0.95090998 0.95951452 0.94300418\n",
      " 0.92955701 0.92850301 0.90945545 0.8896369  0.91137318 0.90842804\n",
      " 0.91791736 0.88841037 0.86333875 0.88259087 0.9208011  0.89954882\n",
      " 0.91718527 0.88769945 0.88912446 0.90471813 0.9075786  0.90233215\n",
      " 0.8444808  0.86685932 0.8756532  0.87661352 0.8467178  0.83846587\n",
      " 0.8511635  0.84431382 0.8615229  0.88041089 0.90715956 0.90824691\n",
      " 0.87493104 0.87276866 0.85701793 0.87138097 0.88060129 0.89932058\n",
      " 0.88778373 0.87182977 0.87324392 0.90197345 0.92272334 0.91287718\n",
      " 0.90143586 0.93448207 0.93825602 0.93776938 0.95064033 0.95394959\n",
      " 0.96437065 0.9817999  0.9817131  0.97882049 0.99179174 0.9873078\n",
      " 0.99504622 0.99325299 0.98194214 0.99409635 1.         0.8021009\n",
      " 0.80491984 0.8065064  0.80651653 0.80480486 0.80140501 0.79648274\n",
      " 0.79028499 0.78309387 0.77519161 0.76683611 0.75824666 0.74959874\n",
      " 0.74102283 0.73260951 0.72441542 0.71646976]\n",
      "17 day output [[0.7087825]]\n",
      "18 day input [0.96119343 0.96052658 0.96805052 0.96848345 0.98913953 0.98744739\n",
      " 0.97388696 0.96104485 0.94631292 0.90751456 0.9077547  0.94265236\n",
      " 0.95137837 0.88568976 0.91108871 0.9262312  0.96510803 0.94483327\n",
      " 0.92990393 0.93111486 0.95090998 0.95951452 0.94300418 0.92955701\n",
      " 0.92850301 0.90945545 0.8896369  0.91137318 0.90842804 0.91791736\n",
      " 0.88841037 0.86333875 0.88259087 0.9208011  0.89954882 0.91718527\n",
      " 0.88769945 0.88912446 0.90471813 0.9075786  0.90233215 0.8444808\n",
      " 0.86685932 0.8756532  0.87661352 0.8467178  0.83846587 0.8511635\n",
      " 0.84431382 0.8615229  0.88041089 0.90715956 0.90824691 0.87493104\n",
      " 0.87276866 0.85701793 0.87138097 0.88060129 0.89932058 0.88778373\n",
      " 0.87182977 0.87324392 0.90197345 0.92272334 0.91287718 0.90143586\n",
      " 0.93448207 0.93825602 0.93776938 0.95064033 0.95394959 0.96437065\n",
      " 0.9817999  0.9817131  0.97882049 0.99179174 0.9873078  0.99504622\n",
      " 0.99325299 0.98194214 0.99409635 1.         0.8021009  0.80491984\n",
      " 0.8065064  0.80651653 0.80480486 0.80140501 0.79648274 0.79028499\n",
      " 0.78309387 0.77519161 0.76683611 0.75824666 0.74959874 0.74102283\n",
      " 0.73260951 0.72441542 0.71646976 0.70878249]\n",
      "18 day output [[0.701349]]\n",
      "19 day input [0.96052658 0.96805052 0.96848345 0.98913953 0.98744739 0.97388696\n",
      " 0.96104485 0.94631292 0.90751456 0.9077547  0.94265236 0.95137837\n",
      " 0.88568976 0.91108871 0.9262312  0.96510803 0.94483327 0.92990393\n",
      " 0.93111486 0.95090998 0.95951452 0.94300418 0.92955701 0.92850301\n",
      " 0.90945545 0.8896369  0.91137318 0.90842804 0.91791736 0.88841037\n",
      " 0.86333875 0.88259087 0.9208011  0.89954882 0.91718527 0.88769945\n",
      " 0.88912446 0.90471813 0.9075786  0.90233215 0.8444808  0.86685932\n",
      " 0.8756532  0.87661352 0.8467178  0.83846587 0.8511635  0.84431382\n",
      " 0.8615229  0.88041089 0.90715956 0.90824691 0.87493104 0.87276866\n",
      " 0.85701793 0.87138097 0.88060129 0.89932058 0.88778373 0.87182977\n",
      " 0.87324392 0.90197345 0.92272334 0.91287718 0.90143586 0.93448207\n",
      " 0.93825602 0.93776938 0.95064033 0.95394959 0.96437065 0.9817999\n",
      " 0.9817131  0.97882049 0.99179174 0.9873078  0.99504622 0.99325299\n",
      " 0.98194214 0.99409635 1.         0.8021009  0.80491984 0.8065064\n",
      " 0.80651653 0.80480486 0.80140501 0.79648274 0.79028499 0.78309387\n",
      " 0.77519161 0.76683611 0.75824666 0.74959874 0.74102283 0.73260951\n",
      " 0.72441542 0.71646976 0.70878249 0.70134902]\n",
      "19 day output [[0.69415706]]\n",
      "20 day input [0.96805052 0.96848345 0.98913953 0.98744739 0.97388696 0.96104485\n",
      " 0.94631292 0.90751456 0.9077547  0.94265236 0.95137837 0.88568976\n",
      " 0.91108871 0.9262312  0.96510803 0.94483327 0.92990393 0.93111486\n",
      " 0.95090998 0.95951452 0.94300418 0.92955701 0.92850301 0.90945545\n",
      " 0.8896369  0.91137318 0.90842804 0.91791736 0.88841037 0.86333875\n",
      " 0.88259087 0.9208011  0.89954882 0.91718527 0.88769945 0.88912446\n",
      " 0.90471813 0.9075786  0.90233215 0.8444808  0.86685932 0.8756532\n",
      " 0.87661352 0.8467178  0.83846587 0.8511635  0.84431382 0.8615229\n",
      " 0.88041089 0.90715956 0.90824691 0.87493104 0.87276866 0.85701793\n",
      " 0.87138097 0.88060129 0.89932058 0.88778373 0.87182977 0.87324392\n",
      " 0.90197345 0.92272334 0.91287718 0.90143586 0.93448207 0.93825602\n",
      " 0.93776938 0.95064033 0.95394959 0.96437065 0.9817999  0.9817131\n",
      " 0.97882049 0.99179174 0.9873078  0.99504622 0.99325299 0.98194214\n",
      " 0.99409635 1.         0.8021009  0.80491984 0.8065064  0.80651653\n",
      " 0.80480486 0.80140501 0.79648274 0.79028499 0.78309387 0.77519161\n",
      " 0.76683611 0.75824666 0.74959874 0.74102283 0.73260951 0.72441542\n",
      " 0.71646976 0.70878249 0.70134902 0.69415706]\n",
      "20 day output [[0.6871891]]\n",
      "21 day input [0.96848345 0.98913953 0.98744739 0.97388696 0.96104485 0.94631292\n",
      " 0.90751456 0.9077547  0.94265236 0.95137837 0.88568976 0.91108871\n",
      " 0.9262312  0.96510803 0.94483327 0.92990393 0.93111486 0.95090998\n",
      " 0.95951452 0.94300418 0.92955701 0.92850301 0.90945545 0.8896369\n",
      " 0.91137318 0.90842804 0.91791736 0.88841037 0.86333875 0.88259087\n",
      " 0.9208011  0.89954882 0.91718527 0.88769945 0.88912446 0.90471813\n",
      " 0.9075786  0.90233215 0.8444808  0.86685932 0.8756532  0.87661352\n",
      " 0.8467178  0.83846587 0.8511635  0.84431382 0.8615229  0.88041089\n",
      " 0.90715956 0.90824691 0.87493104 0.87276866 0.85701793 0.87138097\n",
      " 0.88060129 0.89932058 0.88778373 0.87182977 0.87324392 0.90197345\n",
      " 0.92272334 0.91287718 0.90143586 0.93448207 0.93825602 0.93776938\n",
      " 0.95064033 0.95394959 0.96437065 0.9817999  0.9817131  0.97882049\n",
      " 0.99179174 0.9873078  0.99504622 0.99325299 0.98194214 0.99409635\n",
      " 1.         0.8021009  0.80491984 0.8065064  0.80651653 0.80480486\n",
      " 0.80140501 0.79648274 0.79028499 0.78309387 0.77519161 0.76683611\n",
      " 0.75824666 0.74959874 0.74102283 0.73260951 0.72441542 0.71646976\n",
      " 0.70878249 0.70134902 0.69415706 0.6871891 ]\n",
      "21 day output [[0.68042594]]\n",
      "22 day input [0.98913953 0.98744739 0.97388696 0.96104485 0.94631292 0.90751456\n",
      " 0.9077547  0.94265236 0.95137837 0.88568976 0.91108871 0.9262312\n",
      " 0.96510803 0.94483327 0.92990393 0.93111486 0.95090998 0.95951452\n",
      " 0.94300418 0.92955701 0.92850301 0.90945545 0.8896369  0.91137318\n",
      " 0.90842804 0.91791736 0.88841037 0.86333875 0.88259087 0.9208011\n",
      " 0.89954882 0.91718527 0.88769945 0.88912446 0.90471813 0.9075786\n",
      " 0.90233215 0.8444808  0.86685932 0.8756532  0.87661352 0.8467178\n",
      " 0.83846587 0.8511635  0.84431382 0.8615229  0.88041089 0.90715956\n",
      " 0.90824691 0.87493104 0.87276866 0.85701793 0.87138097 0.88060129\n",
      " 0.89932058 0.88778373 0.87182977 0.87324392 0.90197345 0.92272334\n",
      " 0.91287718 0.90143586 0.93448207 0.93825602 0.93776938 0.95064033\n",
      " 0.95394959 0.96437065 0.9817999  0.9817131  0.97882049 0.99179174\n",
      " 0.9873078  0.99504622 0.99325299 0.98194214 0.99409635 1.\n",
      " 0.8021009  0.80491984 0.8065064  0.80651653 0.80480486 0.80140501\n",
      " 0.79648274 0.79028499 0.78309387 0.77519161 0.76683611 0.75824666\n",
      " 0.74959874 0.74102283 0.73260951 0.72441542 0.71646976 0.70878249\n",
      " 0.70134902 0.69415706 0.6871891  0.68042594]\n",
      "22 day output [[0.6738499]]\n",
      "23 day input [0.98744739 0.97388696 0.96104485 0.94631292 0.90751456 0.9077547\n",
      " 0.94265236 0.95137837 0.88568976 0.91108871 0.9262312  0.96510803\n",
      " 0.94483327 0.92990393 0.93111486 0.95090998 0.95951452 0.94300418\n",
      " 0.92955701 0.92850301 0.90945545 0.8896369  0.91137318 0.90842804\n",
      " 0.91791736 0.88841037 0.86333875 0.88259087 0.9208011  0.89954882\n",
      " 0.91718527 0.88769945 0.88912446 0.90471813 0.9075786  0.90233215\n",
      " 0.8444808  0.86685932 0.8756532  0.87661352 0.8467178  0.83846587\n",
      " 0.8511635  0.84431382 0.8615229  0.88041089 0.90715956 0.90824691\n",
      " 0.87493104 0.87276866 0.85701793 0.87138097 0.88060129 0.89932058\n",
      " 0.88778373 0.87182977 0.87324392 0.90197345 0.92272334 0.91287718\n",
      " 0.90143586 0.93448207 0.93825602 0.93776938 0.95064033 0.95394959\n",
      " 0.96437065 0.9817999  0.9817131  0.97882049 0.99179174 0.9873078\n",
      " 0.99504622 0.99325299 0.98194214 0.99409635 1.         0.8021009\n",
      " 0.80491984 0.8065064  0.80651653 0.80480486 0.80140501 0.79648274\n",
      " 0.79028499 0.78309387 0.77519161 0.76683611 0.75824666 0.74959874\n",
      " 0.74102283 0.73260951 0.72441542 0.71646976 0.70878249 0.70134902\n",
      " 0.69415706 0.6871891  0.68042594 0.67384988]\n",
      "23 day output [[0.66744345]]\n",
      "24 day input [0.97388696 0.96104485 0.94631292 0.90751456 0.9077547  0.94265236\n",
      " 0.95137837 0.88568976 0.91108871 0.9262312  0.96510803 0.94483327\n",
      " 0.92990393 0.93111486 0.95090998 0.95951452 0.94300418 0.92955701\n",
      " 0.92850301 0.90945545 0.8896369  0.91137318 0.90842804 0.91791736\n",
      " 0.88841037 0.86333875 0.88259087 0.9208011  0.89954882 0.91718527\n",
      " 0.88769945 0.88912446 0.90471813 0.9075786  0.90233215 0.8444808\n",
      " 0.86685932 0.8756532  0.87661352 0.8467178  0.83846587 0.8511635\n",
      " 0.84431382 0.8615229  0.88041089 0.90715956 0.90824691 0.87493104\n",
      " 0.87276866 0.85701793 0.87138097 0.88060129 0.89932058 0.88778373\n",
      " 0.87182977 0.87324392 0.90197345 0.92272334 0.91287718 0.90143586\n",
      " 0.93448207 0.93825602 0.93776938 0.95064033 0.95394959 0.96437065\n",
      " 0.9817999  0.9817131  0.97882049 0.99179174 0.9873078  0.99504622\n",
      " 0.99325299 0.98194214 0.99409635 1.         0.8021009  0.80491984\n",
      " 0.8065064  0.80651653 0.80480486 0.80140501 0.79648274 0.79028499\n",
      " 0.78309387 0.77519161 0.76683611 0.75824666 0.74959874 0.74102283\n",
      " 0.73260951 0.72441542 0.71646976 0.70878249 0.70134902 0.69415706\n",
      " 0.6871891  0.68042594 0.67384988 0.66744345]\n"
     ]
    },
    {
     "name": "stdout",
     "output_type": "stream",
     "text": [
      "24 day output [[0.6611923]]\n",
      "25 day input [0.96104485 0.94631292 0.90751456 0.9077547  0.94265236 0.95137837\n",
      " 0.88568976 0.91108871 0.9262312  0.96510803 0.94483327 0.92990393\n",
      " 0.93111486 0.95090998 0.95951452 0.94300418 0.92955701 0.92850301\n",
      " 0.90945545 0.8896369  0.91137318 0.90842804 0.91791736 0.88841037\n",
      " 0.86333875 0.88259087 0.9208011  0.89954882 0.91718527 0.88769945\n",
      " 0.88912446 0.90471813 0.9075786  0.90233215 0.8444808  0.86685932\n",
      " 0.8756532  0.87661352 0.8467178  0.83846587 0.8511635  0.84431382\n",
      " 0.8615229  0.88041089 0.90715956 0.90824691 0.87493104 0.87276866\n",
      " 0.85701793 0.87138097 0.88060129 0.89932058 0.88778373 0.87182977\n",
      " 0.87324392 0.90197345 0.92272334 0.91287718 0.90143586 0.93448207\n",
      " 0.93825602 0.93776938 0.95064033 0.95394959 0.96437065 0.9817999\n",
      " 0.9817131  0.97882049 0.99179174 0.9873078  0.99504622 0.99325299\n",
      " 0.98194214 0.99409635 1.         0.8021009  0.80491984 0.8065064\n",
      " 0.80651653 0.80480486 0.80140501 0.79648274 0.79028499 0.78309387\n",
      " 0.77519161 0.76683611 0.75824666 0.74959874 0.74102283 0.73260951\n",
      " 0.72441542 0.71646976 0.70878249 0.70134902 0.69415706 0.6871891\n",
      " 0.68042594 0.67384988 0.66744345 0.6611923 ]\n",
      "25 day output [[0.65508354]]\n",
      "26 day input [0.94631292 0.90751456 0.9077547  0.94265236 0.95137837 0.88568976\n",
      " 0.91108871 0.9262312  0.96510803 0.94483327 0.92990393 0.93111486\n",
      " 0.95090998 0.95951452 0.94300418 0.92955701 0.92850301 0.90945545\n",
      " 0.8896369  0.91137318 0.90842804 0.91791736 0.88841037 0.86333875\n",
      " 0.88259087 0.9208011  0.89954882 0.91718527 0.88769945 0.88912446\n",
      " 0.90471813 0.9075786  0.90233215 0.8444808  0.86685932 0.8756532\n",
      " 0.87661352 0.8467178  0.83846587 0.8511635  0.84431382 0.8615229\n",
      " 0.88041089 0.90715956 0.90824691 0.87493104 0.87276866 0.85701793\n",
      " 0.87138097 0.88060129 0.89932058 0.88778373 0.87182977 0.87324392\n",
      " 0.90197345 0.92272334 0.91287718 0.90143586 0.93448207 0.93825602\n",
      " 0.93776938 0.95064033 0.95394959 0.96437065 0.9817999  0.9817131\n",
      " 0.97882049 0.99179174 0.9873078  0.99504622 0.99325299 0.98194214\n",
      " 0.99409635 1.         0.8021009  0.80491984 0.8065064  0.80651653\n",
      " 0.80480486 0.80140501 0.79648274 0.79028499 0.78309387 0.77519161\n",
      " 0.76683611 0.75824666 0.74959874 0.74102283 0.73260951 0.72441542\n",
      " 0.71646976 0.70878249 0.70134902 0.69415706 0.6871891  0.68042594\n",
      " 0.67384988 0.66744345 0.6611923  0.65508354]\n",
      "26 day output [[0.6491074]]\n",
      "27 day input [0.90751456 0.9077547  0.94265236 0.95137837 0.88568976 0.91108871\n",
      " 0.9262312  0.96510803 0.94483327 0.92990393 0.93111486 0.95090998\n",
      " 0.95951452 0.94300418 0.92955701 0.92850301 0.90945545 0.8896369\n",
      " 0.91137318 0.90842804 0.91791736 0.88841037 0.86333875 0.88259087\n",
      " 0.9208011  0.89954882 0.91718527 0.88769945 0.88912446 0.90471813\n",
      " 0.9075786  0.90233215 0.8444808  0.86685932 0.8756532  0.87661352\n",
      " 0.8467178  0.83846587 0.8511635  0.84431382 0.8615229  0.88041089\n",
      " 0.90715956 0.90824691 0.87493104 0.87276866 0.85701793 0.87138097\n",
      " 0.88060129 0.89932058 0.88778373 0.87182977 0.87324392 0.90197345\n",
      " 0.92272334 0.91287718 0.90143586 0.93448207 0.93825602 0.93776938\n",
      " 0.95064033 0.95394959 0.96437065 0.9817999  0.9817131  0.97882049\n",
      " 0.99179174 0.9873078  0.99504622 0.99325299 0.98194214 0.99409635\n",
      " 1.         0.8021009  0.80491984 0.8065064  0.80651653 0.80480486\n",
      " 0.80140501 0.79648274 0.79028499 0.78309387 0.77519161 0.76683611\n",
      " 0.75824666 0.74959874 0.74102283 0.73260951 0.72441542 0.71646976\n",
      " 0.70878249 0.70134902 0.69415706 0.6871891  0.68042594 0.67384988\n",
      " 0.66744345 0.6611923  0.65508354 0.6491074 ]\n",
      "27 day output [[0.6432555]]\n",
      "28 day input [0.9077547  0.94265236 0.95137837 0.88568976 0.91108871 0.9262312\n",
      " 0.96510803 0.94483327 0.92990393 0.93111486 0.95090998 0.95951452\n",
      " 0.94300418 0.92955701 0.92850301 0.90945545 0.8896369  0.91137318\n",
      " 0.90842804 0.91791736 0.88841037 0.86333875 0.88259087 0.9208011\n",
      " 0.89954882 0.91718527 0.88769945 0.88912446 0.90471813 0.9075786\n",
      " 0.90233215 0.8444808  0.86685932 0.8756532  0.87661352 0.8467178\n",
      " 0.83846587 0.8511635  0.84431382 0.8615229  0.88041089 0.90715956\n",
      " 0.90824691 0.87493104 0.87276866 0.85701793 0.87138097 0.88060129\n",
      " 0.89932058 0.88778373 0.87182977 0.87324392 0.90197345 0.92272334\n",
      " 0.91287718 0.90143586 0.93448207 0.93825602 0.93776938 0.95064033\n",
      " 0.95394959 0.96437065 0.9817999  0.9817131  0.97882049 0.99179174\n",
      " 0.9873078  0.99504622 0.99325299 0.98194214 0.99409635 1.\n",
      " 0.8021009  0.80491984 0.8065064  0.80651653 0.80480486 0.80140501\n",
      " 0.79648274 0.79028499 0.78309387 0.77519161 0.76683611 0.75824666\n",
      " 0.74959874 0.74102283 0.73260951 0.72441542 0.71646976 0.70878249\n",
      " 0.70134902 0.69415706 0.6871891  0.68042594 0.67384988 0.66744345\n",
      " 0.6611923  0.65508354 0.6491074  0.64325547]\n",
      "28 day output [[0.63752097]]\n",
      "29 day input [0.94265236 0.95137837 0.88568976 0.91108871 0.9262312  0.96510803\n",
      " 0.94483327 0.92990393 0.93111486 0.95090998 0.95951452 0.94300418\n",
      " 0.92955701 0.92850301 0.90945545 0.8896369  0.91137318 0.90842804\n",
      " 0.91791736 0.88841037 0.86333875 0.88259087 0.9208011  0.89954882\n",
      " 0.91718527 0.88769945 0.88912446 0.90471813 0.9075786  0.90233215\n",
      " 0.8444808  0.86685932 0.8756532  0.87661352 0.8467178  0.83846587\n",
      " 0.8511635  0.84431382 0.8615229  0.88041089 0.90715956 0.90824691\n",
      " 0.87493104 0.87276866 0.85701793 0.87138097 0.88060129 0.89932058\n",
      " 0.88778373 0.87182977 0.87324392 0.90197345 0.92272334 0.91287718\n",
      " 0.90143586 0.93448207 0.93825602 0.93776938 0.95064033 0.95394959\n",
      " 0.96437065 0.9817999  0.9817131  0.97882049 0.99179174 0.9873078\n",
      " 0.99504622 0.99325299 0.98194214 0.99409635 1.         0.8021009\n",
      " 0.80491984 0.8065064  0.80651653 0.80480486 0.80140501 0.79648274\n",
      " 0.79028499 0.78309387 0.77519161 0.76683611 0.75824666 0.74959874\n",
      " 0.74102283 0.73260951 0.72441542 0.71646976 0.70878249 0.70134902\n",
      " 0.69415706 0.6871891  0.68042594 0.67384988 0.66744345 0.6611923\n",
      " 0.65508354 0.6491074  0.64325547 0.63752097]\n",
      "29 day output [[0.6318984]]\n",
      "[[0.8021008968353271], [0.8049198389053345], [0.8065063953399658], [0.8065165281295776], [0.8048048615455627], [0.8014050126075745], [0.7964827418327332], [0.7902849912643433], [0.7830938696861267], [0.775191605091095], [0.7668361067771912], [0.758246660232544], [0.7495987415313721], [0.7410228252410889], [0.7326095104217529], [0.7244154214859009], [0.7164697647094727], [0.7087824940681458], [0.7013490200042725], [0.694157063961029], [0.6871891021728516], [0.6804259419441223], [0.673849880695343], [0.6674434542655945], [0.6611922979354858], [0.6550835371017456], [0.6491073966026306], [0.6432554721832275], [0.637520968914032], [0.6318984031677246]]\n",
      "Wall time: 3.18 s\n"
     ]
    }
   ],
   "source": [
    "%%time\n",
    "lst_output = []\n",
    "n_steps = 100\n",
    "i = 0\n",
    "\n",
    "while(i < 30):\n",
    "    if(len(temp) > 100):\n",
    "        x_input = np.array(temp[1:])\n",
    "        print(\"{} day input {}\".format(i, x_input))\n",
    "        x_input = x_input.reshape(1, -1)\n",
    "        x_input = x_input.reshape((1, n_steps, 1))\n",
    "        Y_hat = model.predict(x_input, verbose = 0)\n",
    "        print(\"{} day output {}\".format(i, Y_hat))\n",
    "        temp.extend(Y_hat[0].tolist())\n",
    "        temp = temp[1:]\n",
    "        lst_output.extend(Y_hat.tolist())\n",
    "        i = i + 1\n",
    "    else:\n",
    "        x_input = x_input.reshape((1, n_steps, 1))\n",
    "        Y_hat = model.predict(x_input, verbose = 0)\n",
    "        print(Y_hat[0])\n",
    "        temp.extend(Y_hat[0].tolist())\n",
    "        print(len(temp))\n",
    "        lst_output.extend(Y_hat.tolist())\n",
    "        i = i + 1\n",
    "        \n",
    "print(lst_output)"
   ]
  },
  {
   "cell_type": "code",
   "execution_count": 29,
   "metadata": {},
   "outputs": [],
   "source": [
    "day_new = np.arange(1, 101)\n",
    "day_predict = np.arange(101, 131)"
   ]
  },
  {
   "cell_type": "code",
   "execution_count": 30,
   "metadata": {},
   "outputs": [
    {
     "data": {
      "text/plain": [
       "<matplotlib.legend.Legend at 0x24a05223cd0>"
      ]
     },
     "execution_count": 30,
     "metadata": {},
     "output_type": "execute_result"
    },
    {
     "data": {
      "image/png": "[encoded data removed]",
      "text/plain": [
       "<Figure size 432x288 with 1 Axes>"
      ]
     },
     "metadata": {
      "needs_background": "light"
     },
     "output_type": "display_data"
    }
   ],
   "source": [
    "# Visualizing the prediction\n",
    "plt.plot(day_new, scaler.inverse_transform(training[len(training) - 100:]), label = 'Actual Data')\n",
    "plt.plot(day_predict, scaler.inverse_transform(lst_output), label = '30 Days Prediction')\n",
    "plt.legend()"
   ]
  },
  {
   "cell_type": "markdown",
   "metadata": {},
   "source": [
    "## Textual Analysis"
   ]
  },
  {
   "cell_type": "markdown",
   "metadata": {},
   "source": [
    "### Sentiment Analysis"
   ]
  },
  {
   "cell_type": "code",
   "execution_count": 31,
   "metadata": {},
   "outputs": [],
   "source": [
    "# Importing the required libraries\n",
    "from nltk.sentiment.vader import SentimentIntensityAnalyzer\n",
    "from textblob import TextBlob\n",
    "import seaborn as sns"
   ]
  },
  {
   "cell_type": "code",
   "execution_count": 32,
   "metadata": {},
   "outputs": [
    {
     "data": {
      "text/html": [
       "<div>\n",
       "<style scoped>\n",
       "    .dataframe tbody tr th:only-of-type {\n",
       "        vertical-align: middle;\n",
       "    }\n",
       "\n",
       "    .dataframe tbody tr th {\n",
       "        vertical-align: top;\n",
       "    }\n",
       "\n",
       "    .dataframe thead th {\n",
       "        text-align: right;\n",
       "    }\n",
       "</style>\n",
       "<table border=\"1\" class=\"dataframe\">\n",
       "  <thead>\n",
       "    <tr style=\"text-align: right;\">\n",
       "      <th></th>\n",
       "      <th>publish_date</th>\n",
       "      <th>headline_category</th>\n",
       "      <th>headline_text</th>\n",
       "    </tr>\n",
       "  </thead>\n",
       "  <tbody>\n",
       "    <tr>\n",
       "      <th>0</th>\n",
       "      <td>20010102</td>\n",
       "      <td>unknown</td>\n",
       "      <td>Status quo will not be disturbed at Ayodhya; s...</td>\n",
       "    </tr>\n",
       "    <tr>\n",
       "      <th>1</th>\n",
       "      <td>20010102</td>\n",
       "      <td>unknown</td>\n",
       "      <td>Fissures in Hurriyat over Pak visit</td>\n",
       "    </tr>\n",
       "    <tr>\n",
       "      <th>2</th>\n",
       "      <td>20010102</td>\n",
       "      <td>unknown</td>\n",
       "      <td>America's unwanted heading for India?</td>\n",
       "    </tr>\n",
       "    <tr>\n",
       "      <th>3</th>\n",
       "      <td>20010102</td>\n",
       "      <td>unknown</td>\n",
       "      <td>For bigwigs; it is destination Goa</td>\n",
       "    </tr>\n",
       "    <tr>\n",
       "      <th>4</th>\n",
       "      <td>20010102</td>\n",
       "      <td>unknown</td>\n",
       "      <td>Extra buses to clear tourist traffic</td>\n",
       "    </tr>\n",
       "  </tbody>\n",
       "</table>\n",
       "</div>"
      ],
      "text/plain": [
       "   publish_date headline_category  \\\n",
       "0      20010102           unknown   \n",
       "1      20010102           unknown   \n",
       "2      20010102           unknown   \n",
       "3      20010102           unknown   \n",
       "4      20010102           unknown   \n",
       "\n",
       "                                       headline_text  \n",
       "0  Status quo will not be disturbed at Ayodhya; s...  \n",
       "1                Fissures in Hurriyat over Pak visit  \n",
       "2              America's unwanted heading for India?  \n",
       "3                 For bigwigs; it is destination Goa  \n",
       "4               Extra buses to clear tourist traffic  "
      ]
     },
     "execution_count": 32,
     "metadata": {},
     "output_type": "execute_result"
    }
   ],
   "source": [
    "df = pd.read_csv('india-news-headlines.csv')\n",
    "df.head()"
   ]
  },
  {
   "cell_type": "code",
   "execution_count": 33,
   "metadata": {},
   "outputs": [],
   "source": [
    "# Dropping the headline_cateogry variables as it is not required for analysis\n",
    "df.drop(['headline_category'], axis = 1, inplace = True)"
   ]
  },
  {
   "cell_type": "code",
   "execution_count": 34,
   "metadata": {},
   "outputs": [
    {
     "data": {
      "text/html": [
       "<div>\n",
       "<style scoped>\n",
       "    .dataframe tbody tr th:only-of-type {\n",
       "        vertical-align: middle;\n",
       "    }\n",
       "\n",
       "    .dataframe tbody tr th {\n",
       "        vertical-align: top;\n",
       "    }\n",
       "\n",
       "    .dataframe thead th {\n",
       "        text-align: right;\n",
       "    }\n",
       "</style>\n",
       "<table border=\"1\" class=\"dataframe\">\n",
       "  <thead>\n",
       "    <tr style=\"text-align: right;\">\n",
       "      <th></th>\n",
       "      <th>Date</th>\n",
       "      <th>headline</th>\n",
       "    </tr>\n",
       "  </thead>\n",
       "  <tbody>\n",
       "    <tr>\n",
       "      <th>0</th>\n",
       "      <td>2001-01-02</td>\n",
       "      <td>status quo will not be disturbed at ayodhya; s...</td>\n",
       "    </tr>\n",
       "    <tr>\n",
       "      <th>1</th>\n",
       "      <td>2001-01-02</td>\n",
       "      <td>fissures in hurriyat over pak visit</td>\n",
       "    </tr>\n",
       "    <tr>\n",
       "      <th>2</th>\n",
       "      <td>2001-01-02</td>\n",
       "      <td>america's unwanted heading for india?</td>\n",
       "    </tr>\n",
       "    <tr>\n",
       "      <th>3</th>\n",
       "      <td>2001-01-02</td>\n",
       "      <td>for bigwigs; it is destination goa</td>\n",
       "    </tr>\n",
       "    <tr>\n",
       "      <th>4</th>\n",
       "      <td>2001-01-02</td>\n",
       "      <td>extra buses to clear tourist traffic</td>\n",
       "    </tr>\n",
       "  </tbody>\n",
       "</table>\n",
       "</div>"
      ],
      "text/plain": [
       "        Date                                           headline\n",
       "0 2001-01-02  status quo will not be disturbed at ayodhya; s...\n",
       "1 2001-01-02                fissures in hurriyat over pak visit\n",
       "2 2001-01-02              america's unwanted heading for india?\n",
       "3 2001-01-02                 for bigwigs; it is destination goa\n",
       "4 2001-01-02               extra buses to clear tourist traffic"
      ]
     },
     "execution_count": 34,
     "metadata": {},
     "output_type": "execute_result"
    }
   ],
   "source": [
    "# Converting the publish_date into proper date time variables\n",
    "df['publish_date'] = pd.to_datetime(df['publish_date'], format = '%Y%m%d')\n",
    "df['headline_text'] = df['headline_text'].str.lower()\n",
    "df.columns = ['Date', 'headline']\n",
    "df.head()"
   ]
  },
  {
   "cell_type": "code",
   "execution_count": 35,
   "metadata": {},
   "outputs": [
    {
     "data": {
      "text/plain": [
       "(3424067, 2)"
      ]
     },
     "execution_count": 35,
     "metadata": {},
     "output_type": "execute_result"
    }
   ],
   "source": [
    "df.shape"
   ]
  },
  {
   "cell_type": "code",
   "execution_count": 36,
   "metadata": {},
   "outputs": [
    {
     "name": "stdout",
     "output_type": "stream",
     "text": [
      "<class 'pandas.core.frame.DataFrame'>\n",
      "RangeIndex: 3424067 entries, 0 to 3424066\n",
      "Data columns (total 2 columns):\n",
      " #   Column    Dtype         \n",
      "---  ------    -----         \n",
      " 0   Date      datetime64[ns]\n",
      " 1   headline  object        \n",
      "dtypes: datetime64[ns](1), object(1)\n",
      "memory usage: 52.2+ MB\n"
     ]
    }
   ],
   "source": [
    "df.info()"
   ]
  },
  {
   "cell_type": "code",
   "execution_count": 37,
   "metadata": {
    "scrolled": true
   },
   "outputs": [
    {
     "name": "stdout",
     "output_type": "stream",
     "text": [
      "Wall time: 4min 43s\n"
     ]
    },
    {
     "data": {
      "text/html": [
       "<div>\n",
       "<style scoped>\n",
       "    .dataframe tbody tr th:only-of-type {\n",
       "        vertical-align: middle;\n",
       "    }\n",
       "\n",
       "    .dataframe tbody tr th {\n",
       "        vertical-align: top;\n",
       "    }\n",
       "\n",
       "    .dataframe thead th {\n",
       "        text-align: right;\n",
       "    }\n",
       "</style>\n",
       "<table border=\"1\" class=\"dataframe\">\n",
       "  <thead>\n",
       "    <tr style=\"text-align: right;\">\n",
       "      <th></th>\n",
       "      <th>Date</th>\n",
       "      <th>headline</th>\n",
       "    </tr>\n",
       "  </thead>\n",
       "  <tbody>\n",
       "    <tr>\n",
       "      <th>0</th>\n",
       "      <td>2001-01-02</td>\n",
       "      <td>status quo will not be disturbed at ayodhya; s...</td>\n",
       "    </tr>\n",
       "    <tr>\n",
       "      <th>1</th>\n",
       "      <td>2001-01-03</td>\n",
       "      <td>powerless north india gropes in the dark think...</td>\n",
       "    </tr>\n",
       "    <tr>\n",
       "      <th>2</th>\n",
       "      <td>2001-01-04</td>\n",
       "      <td>the string that pulled stephen hawking to indi...</td>\n",
       "    </tr>\n",
       "    <tr>\n",
       "      <th>3</th>\n",
       "      <td>2001-01-05</td>\n",
       "      <td>light combat craft takes india into club class...</td>\n",
       "    </tr>\n",
       "    <tr>\n",
       "      <th>4</th>\n",
       "      <td>2001-01-06</td>\n",
       "      <td>light combat craft takes india into club class...</td>\n",
       "    </tr>\n",
       "    <tr>\n",
       "      <th>...</th>\n",
       "      <td>...</td>\n",
       "      <td>...</td>\n",
       "    </tr>\n",
       "    <tr>\n",
       "      <th>7257</th>\n",
       "      <td>2020-12-27</td>\n",
       "      <td>#biginterview! dhritiman chatterjee: nobody da...</td>\n",
       "    </tr>\n",
       "    <tr>\n",
       "      <th>7258</th>\n",
       "      <td>2020-12-28</td>\n",
       "      <td>horoscope today; 28 december 2020: check astro...</td>\n",
       "    </tr>\n",
       "    <tr>\n",
       "      <th>7259</th>\n",
       "      <td>2020-12-29</td>\n",
       "      <td>man recovers charred remains of 'thief' from h...</td>\n",
       "    </tr>\n",
       "    <tr>\n",
       "      <th>7260</th>\n",
       "      <td>2020-12-30</td>\n",
       "      <td>numerology readings 30 december 2020: predicti...</td>\n",
       "    </tr>\n",
       "    <tr>\n",
       "      <th>7261</th>\n",
       "      <td>2020-12-31</td>\n",
       "      <td>horoscope today; 31 december 2020: check astro...</td>\n",
       "    </tr>\n",
       "  </tbody>\n",
       "</table>\n",
       "<p>7262 rows × 2 columns</p>\n",
       "</div>"
      ],
      "text/plain": [
       "           Date                                           headline\n",
       "0    2001-01-02  status quo will not be disturbed at ayodhya; s...\n",
       "1    2001-01-03  powerless north india gropes in the dark think...\n",
       "2    2001-01-04  the string that pulled stephen hawking to indi...\n",
       "3    2001-01-05  light combat craft takes india into club class...\n",
       "4    2001-01-06  light combat craft takes india into club class...\n",
       "...         ...                                                ...\n",
       "7257 2020-12-27  #biginterview! dhritiman chatterjee: nobody da...\n",
       "7258 2020-12-28  horoscope today; 28 december 2020: check astro...\n",
       "7259 2020-12-29  man recovers charred remains of 'thief' from h...\n",
       "7260 2020-12-30  numerology readings 30 december 2020: predicti...\n",
       "7261 2020-12-31  horoscope today; 31 december 2020: check astro...\n",
       "\n",
       "[7262 rows x 2 columns]"
      ]
     },
     "execution_count": 37,
     "metadata": {},
     "output_type": "execute_result"
    }
   ],
   "source": [
    "%%time\n",
    "# Dropping the duplicate data\n",
    "df['headline'] = df.groupby(df['Date']).transform(lambda x: ' '.join(x))\n",
    "df = df.drop_duplicates()\n",
    "df.reset_index(drop = True, inplace = True)\n",
    "df"
   ]
  },
  {
   "cell_type": "markdown",
   "metadata": {},
   "source": [
    "##### Checking the missing values in the data"
   ]
  },
  {
   "cell_type": "code",
   "execution_count": 38,
   "metadata": {},
   "outputs": [
    {
     "data": {
      "text/plain": [
       "Date        0\n",
       "headline    0\n",
       "dtype: int64"
      ]
     },
     "execution_count": 38,
     "metadata": {},
     "output_type": "execute_result"
    }
   ],
   "source": [
    "df.isnull().sum()"
   ]
  },
  {
   "cell_type": "markdown",
   "metadata": {},
   "source": [
    "##### Calculating the Polarity and Subjectivity of the text"
   ]
  },
  {
   "cell_type": "markdown",
   "metadata": {},
   "source": [
    "Polarity: Polarity is a value in the range of -1 to 1, where value closer to 1 is a positive statement and value closer to -1 is a negative statement."
   ]
  },
  {
   "cell_type": "markdown",
   "metadata": {},
   "source": [
    "Subjectivity: Sbjectivity is a value in the range of 0 to 1, where value close to 0 indicates a factual information and value closer to 1 is referred to as personal opinion, emotion or judgement."
   ]
  },
  {
   "cell_type": "code",
   "execution_count": 39,
   "metadata": {},
   "outputs": [],
   "source": [
    "def getPolarity(text):\n",
    "    return TextBlob(text).sentiment.polarity\n",
    "\n",
    "def getSubjectivity(text):\n",
    "    return TextBlob(text).sentiment.subjectivity"
   ]
  },
  {
   "cell_type": "code",
   "execution_count": 40,
   "metadata": {},
   "outputs": [
    {
     "name": "stdout",
     "output_type": "stream",
     "text": [
      "Wall time: 9min 48s\n"
     ]
    },
    {
     "data": {
      "text/plain": [
       "<matplotlib.axes._subplots.AxesSubplot at 0x24a883f7d00>"
      ]
     },
     "execution_count": 40,
     "metadata": {},
     "output_type": "execute_result"
    },
    {
     "data": {
      "image/png": "[encoded data removed]",
      "text/plain": [
       "<Figure size 432x288 with 1 Axes>"
      ]
     },
     "metadata": {
      "needs_background": "light"
     },
     "output_type": "display_data"
    }
   ],
   "source": [
    "%%time\n",
    "df['Subjectivity'] = df['headline'].apply(getSubjectivity)\n",
    "df['Polarity'] = df['headline'].apply(getPolarity)\n",
    "df['Polarity'].hist()"
   ]
  },
  {
   "cell_type": "markdown",
   "metadata": {},
   "source": [
    "##### Analyzing the positive, negative, neutral and compound scores of the texts"
   ]
  },
  {
   "cell_type": "code",
   "execution_count": 41,
   "metadata": {},
   "outputs": [
    {
     "name": "stdout",
     "output_type": "stream",
     "text": [
      "Wall time: 26min 2s\n"
     ]
    },
    {
     "data": {
      "text/html": [
       "<div>\n",
       "<style scoped>\n",
       "    .dataframe tbody tr th:only-of-type {\n",
       "        vertical-align: middle;\n",
       "    }\n",
       "\n",
       "    .dataframe tbody tr th {\n",
       "        vertical-align: top;\n",
       "    }\n",
       "\n",
       "    .dataframe thead th {\n",
       "        text-align: right;\n",
       "    }\n",
       "</style>\n",
       "<table border=\"1\" class=\"dataframe\">\n",
       "  <thead>\n",
       "    <tr style=\"text-align: right;\">\n",
       "      <th></th>\n",
       "      <th>Date</th>\n",
       "      <th>headline</th>\n",
       "      <th>Subjectivity</th>\n",
       "      <th>Polarity</th>\n",
       "      <th>Negative</th>\n",
       "      <th>Neutral</th>\n",
       "      <th>Positive</th>\n",
       "      <th>Compound</th>\n",
       "    </tr>\n",
       "  </thead>\n",
       "  <tbody>\n",
       "    <tr>\n",
       "      <th>0</th>\n",
       "      <td>2001-01-02</td>\n",
       "      <td>status quo will not be disturbed at ayodhya; s...</td>\n",
       "      <td>0.282333</td>\n",
       "      <td>0.151333</td>\n",
       "      <td>0.122</td>\n",
       "      <td>0.807</td>\n",
       "      <td>0.071</td>\n",
       "      <td>-0.9811</td>\n",
       "    </tr>\n",
       "    <tr>\n",
       "      <th>1</th>\n",
       "      <td>2001-01-03</td>\n",
       "      <td>powerless north india gropes in the dark think...</td>\n",
       "      <td>0.407692</td>\n",
       "      <td>0.088462</td>\n",
       "      <td>0.122</td>\n",
       "      <td>0.766</td>\n",
       "      <td>0.111</td>\n",
       "      <td>-0.2640</td>\n",
       "    </tr>\n",
       "    <tr>\n",
       "      <th>2</th>\n",
       "      <td>2001-01-04</td>\n",
       "      <td>the string that pulled stephen hawking to indi...</td>\n",
       "      <td>0.446847</td>\n",
       "      <td>0.087961</td>\n",
       "      <td>0.100</td>\n",
       "      <td>0.797</td>\n",
       "      <td>0.103</td>\n",
       "      <td>0.8738</td>\n",
       "    </tr>\n",
       "    <tr>\n",
       "      <th>3</th>\n",
       "      <td>2001-01-05</td>\n",
       "      <td>light combat craft takes india into club class...</td>\n",
       "      <td>0.476612</td>\n",
       "      <td>0.262024</td>\n",
       "      <td>0.122</td>\n",
       "      <td>0.721</td>\n",
       "      <td>0.157</td>\n",
       "      <td>0.9816</td>\n",
       "    </tr>\n",
       "    <tr>\n",
       "      <th>4</th>\n",
       "      <td>2001-01-06</td>\n",
       "      <td>light combat craft takes india into club class...</td>\n",
       "      <td>0.439394</td>\n",
       "      <td>0.248485</td>\n",
       "      <td>0.152</td>\n",
       "      <td>0.704</td>\n",
       "      <td>0.143</td>\n",
       "      <td>-0.4215</td>\n",
       "    </tr>\n",
       "    <tr>\n",
       "      <th>...</th>\n",
       "      <td>...</td>\n",
       "      <td>...</td>\n",
       "      <td>...</td>\n",
       "      <td>...</td>\n",
       "      <td>...</td>\n",
       "      <td>...</td>\n",
       "      <td>...</td>\n",
       "      <td>...</td>\n",
       "    </tr>\n",
       "    <tr>\n",
       "      <th>7257</th>\n",
       "      <td>2020-12-27</td>\n",
       "      <td>#biginterview! dhritiman chatterjee: nobody da...</td>\n",
       "      <td>0.395808</td>\n",
       "      <td>0.035886</td>\n",
       "      <td>0.129</td>\n",
       "      <td>0.793</td>\n",
       "      <td>0.078</td>\n",
       "      <td>-0.9997</td>\n",
       "    </tr>\n",
       "    <tr>\n",
       "      <th>7258</th>\n",
       "      <td>2020-12-28</td>\n",
       "      <td>horoscope today; 28 december 2020: check astro...</td>\n",
       "      <td>0.412945</td>\n",
       "      <td>0.070517</td>\n",
       "      <td>0.138</td>\n",
       "      <td>0.769</td>\n",
       "      <td>0.093</td>\n",
       "      <td>-0.9998</td>\n",
       "    </tr>\n",
       "    <tr>\n",
       "      <th>7259</th>\n",
       "      <td>2020-12-29</td>\n",
       "      <td>man recovers charred remains of 'thief' from h...</td>\n",
       "      <td>0.424021</td>\n",
       "      <td>0.061210</td>\n",
       "      <td>0.150</td>\n",
       "      <td>0.754</td>\n",
       "      <td>0.096</td>\n",
       "      <td>-0.9999</td>\n",
       "    </tr>\n",
       "    <tr>\n",
       "      <th>7260</th>\n",
       "      <td>2020-12-30</td>\n",
       "      <td>numerology readings 30 december 2020: predicti...</td>\n",
       "      <td>0.441660</td>\n",
       "      <td>0.043496</td>\n",
       "      <td>0.143</td>\n",
       "      <td>0.775</td>\n",
       "      <td>0.081</td>\n",
       "      <td>-0.9999</td>\n",
       "    </tr>\n",
       "    <tr>\n",
       "      <th>7261</th>\n",
       "      <td>2020-12-31</td>\n",
       "      <td>horoscope today; 31 december 2020: check astro...</td>\n",
       "      <td>0.406220</td>\n",
       "      <td>0.091373</td>\n",
       "      <td>0.135</td>\n",
       "      <td>0.765</td>\n",
       "      <td>0.100</td>\n",
       "      <td>-0.9998</td>\n",
       "    </tr>\n",
       "  </tbody>\n",
       "</table>\n",
       "<p>7262 rows × 8 columns</p>\n",
       "</div>"
      ],
      "text/plain": [
       "           Date                                           headline  \\\n",
       "0    2001-01-02  status quo will not be disturbed at ayodhya; s...   \n",
       "1    2001-01-03  powerless north india gropes in the dark think...   \n",
       "2    2001-01-04  the string that pulled stephen hawking to indi...   \n",
       "3    2001-01-05  light combat craft takes india into club class...   \n",
       "4    2001-01-06  light combat craft takes india into club class...   \n",
       "...         ...                                                ...   \n",
       "7257 2020-12-27  #biginterview! dhritiman chatterjee: nobody da...   \n",
       "7258 2020-12-28  horoscope today; 28 december 2020: check astro...   \n",
       "7259 2020-12-29  man recovers charred remains of 'thief' from h...   \n",
       "7260 2020-12-30  numerology readings 30 december 2020: predicti...   \n",
       "7261 2020-12-31  horoscope today; 31 december 2020: check astro...   \n",
       "\n",
       "      Subjectivity  Polarity  Negative  Neutral  Positive  Compound  \n",
       "0         0.282333  0.151333     0.122    0.807     0.071   -0.9811  \n",
       "1         0.407692  0.088462     0.122    0.766     0.111   -0.2640  \n",
       "2         0.446847  0.087961     0.100    0.797     0.103    0.8738  \n",
       "3         0.476612  0.262024     0.122    0.721     0.157    0.9816  \n",
       "4         0.439394  0.248485     0.152    0.704     0.143   -0.4215  \n",
       "...            ...       ...       ...      ...       ...       ...  \n",
       "7257      0.395808  0.035886     0.129    0.793     0.078   -0.9997  \n",
       "7258      0.412945  0.070517     0.138    0.769     0.093   -0.9998  \n",
       "7259      0.424021  0.061210     0.150    0.754     0.096   -0.9999  \n",
       "7260      0.441660  0.043496     0.143    0.775     0.081   -0.9999  \n",
       "7261      0.406220  0.091373     0.135    0.765     0.100   -0.9998  \n",
       "\n",
       "[7262 rows x 8 columns]"
      ]
     },
     "execution_count": 41,
     "metadata": {},
     "output_type": "execute_result"
    }
   ],
   "source": [
    "%%time\n",
    "analyzer = SentimentIntensityAnalyzer()\n",
    "negative = []\n",
    "neutral = []\n",
    "positive = []\n",
    "compound = []\n",
    "\n",
    "for i in df['headline']:\n",
    "    score = analyzer.polarity_scores(i)\n",
    "    negative.append(score['neg'])\n",
    "    neutral.append(score['neu'])\n",
    "    positive.append(score['pos'])\n",
    "    compound.append(score['compound'])\n",
    "    \n",
    "df['Negative'] = np.array(negative)\n",
    "df['Neutral'] = np.array(neutral)\n",
    "df['Positive'] = np.array(positive)\n",
    "df['Compound'] = np.array(compound)\n",
    "df    "
   ]
  },
  {
   "cell_type": "markdown",
   "metadata": {},
   "source": [
    "##### Merging the Closing price dataframe with the sentiment analysis data"
   ]
  },
  {
   "cell_type": "code",
   "execution_count": 42,
   "metadata": {},
   "outputs": [
    {
     "name": "stdout",
     "output_type": "stream",
     "text": [
      "Wall time: 261 ms\n"
     ]
    },
    {
     "data": {
      "text/html": [
       "<div>\n",
       "<style scoped>\n",
       "    .dataframe tbody tr th:only-of-type {\n",
       "        vertical-align: middle;\n",
       "    }\n",
       "\n",
       "    .dataframe tbody tr th {\n",
       "        vertical-align: top;\n",
       "    }\n",
       "\n",
       "    .dataframe thead th {\n",
       "        text-align: right;\n",
       "    }\n",
       "</style>\n",
       "<table border=\"1\" class=\"dataframe\">\n",
       "  <thead>\n",
       "    <tr style=\"text-align: right;\">\n",
       "      <th></th>\n",
       "      <th>Date</th>\n",
       "      <th>Close</th>\n",
       "      <th>headline</th>\n",
       "      <th>Subjectivity</th>\n",
       "      <th>Polarity</th>\n",
       "      <th>Negative</th>\n",
       "      <th>Neutral</th>\n",
       "      <th>Positive</th>\n",
       "      <th>Compound</th>\n",
       "    </tr>\n",
       "  </thead>\n",
       "  <tbody>\n",
       "    <tr>\n",
       "      <th>0</th>\n",
       "      <td>2015-01-02</td>\n",
       "      <td>27887.900391</td>\n",
       "      <td>drink smart with these party tips how to say s...</td>\n",
       "      <td>0.455678</td>\n",
       "      <td>0.058540</td>\n",
       "      <td>0.146</td>\n",
       "      <td>0.741</td>\n",
       "      <td>0.113</td>\n",
       "      <td>-0.9997</td>\n",
       "    </tr>\n",
       "    <tr>\n",
       "      <th>1</th>\n",
       "      <td>2015-01-05</td>\n",
       "      <td>27842.320312</td>\n",
       "      <td>recipe: strawberry cupcakes recipe: kaju jeera...</td>\n",
       "      <td>0.433587</td>\n",
       "      <td>0.097769</td>\n",
       "      <td>0.129</td>\n",
       "      <td>0.758</td>\n",
       "      <td>0.113</td>\n",
       "      <td>-0.9989</td>\n",
       "    </tr>\n",
       "    <tr>\n",
       "      <th>2</th>\n",
       "      <td>2015-01-06</td>\n",
       "      <td>26987.460938</td>\n",
       "      <td>turn to gardening for happiness teeth jeweller...</td>\n",
       "      <td>0.386579</td>\n",
       "      <td>0.055777</td>\n",
       "      <td>0.116</td>\n",
       "      <td>0.804</td>\n",
       "      <td>0.079</td>\n",
       "      <td>-0.9997</td>\n",
       "    </tr>\n",
       "    <tr>\n",
       "      <th>3</th>\n",
       "      <td>2015-01-07</td>\n",
       "      <td>26908.820312</td>\n",
       "      <td>can ex-lovers be friends? is water diet bad fo...</td>\n",
       "      <td>0.385529</td>\n",
       "      <td>0.033072</td>\n",
       "      <td>0.169</td>\n",
       "      <td>0.745</td>\n",
       "      <td>0.086</td>\n",
       "      <td>-1.0000</td>\n",
       "    </tr>\n",
       "    <tr>\n",
       "      <th>4</th>\n",
       "      <td>2015-01-08</td>\n",
       "      <td>27274.710938</td>\n",
       "      <td>how to do a home manicure recipe: spiced beetr...</td>\n",
       "      <td>0.408689</td>\n",
       "      <td>0.061495</td>\n",
       "      <td>0.143</td>\n",
       "      <td>0.774</td>\n",
       "      <td>0.083</td>\n",
       "      <td>-0.9999</td>\n",
       "    </tr>\n",
       "    <tr>\n",
       "      <th>...</th>\n",
       "      <td>...</td>\n",
       "      <td>...</td>\n",
       "      <td>...</td>\n",
       "      <td>...</td>\n",
       "      <td>...</td>\n",
       "      <td>...</td>\n",
       "      <td>...</td>\n",
       "      <td>...</td>\n",
       "      <td>...</td>\n",
       "    </tr>\n",
       "    <tr>\n",
       "      <th>1469</th>\n",
       "      <td>2020-12-24</td>\n",
       "      <td>46973.539062</td>\n",
       "      <td>how to set the mood for sex during cold winter...</td>\n",
       "      <td>0.390942</td>\n",
       "      <td>0.048166</td>\n",
       "      <td>0.092</td>\n",
       "      <td>0.838</td>\n",
       "      <td>0.069</td>\n",
       "      <td>-0.9984</td>\n",
       "    </tr>\n",
       "    <tr>\n",
       "      <th>1470</th>\n",
       "      <td>2020-12-28</td>\n",
       "      <td>47353.750000</td>\n",
       "      <td>horoscope today; 28 december 2020: check astro...</td>\n",
       "      <td>0.412945</td>\n",
       "      <td>0.070517</td>\n",
       "      <td>0.138</td>\n",
       "      <td>0.769</td>\n",
       "      <td>0.093</td>\n",
       "      <td>-0.9998</td>\n",
       "    </tr>\n",
       "    <tr>\n",
       "      <th>1471</th>\n",
       "      <td>2020-12-29</td>\n",
       "      <td>47613.078125</td>\n",
       "      <td>man recovers charred remains of 'thief' from h...</td>\n",
       "      <td>0.424021</td>\n",
       "      <td>0.061210</td>\n",
       "      <td>0.150</td>\n",
       "      <td>0.754</td>\n",
       "      <td>0.096</td>\n",
       "      <td>-0.9999</td>\n",
       "    </tr>\n",
       "    <tr>\n",
       "      <th>1472</th>\n",
       "      <td>2020-12-30</td>\n",
       "      <td>47746.218750</td>\n",
       "      <td>numerology readings 30 december 2020: predicti...</td>\n",
       "      <td>0.441660</td>\n",
       "      <td>0.043496</td>\n",
       "      <td>0.143</td>\n",
       "      <td>0.775</td>\n",
       "      <td>0.081</td>\n",
       "      <td>-0.9999</td>\n",
       "    </tr>\n",
       "    <tr>\n",
       "      <th>1473</th>\n",
       "      <td>2020-12-31</td>\n",
       "      <td>47751.328125</td>\n",
       "      <td>horoscope today; 31 december 2020: check astro...</td>\n",
       "      <td>0.406220</td>\n",
       "      <td>0.091373</td>\n",
       "      <td>0.135</td>\n",
       "      <td>0.765</td>\n",
       "      <td>0.100</td>\n",
       "      <td>-0.9998</td>\n",
       "    </tr>\n",
       "  </tbody>\n",
       "</table>\n",
       "<p>1474 rows × 9 columns</p>\n",
       "</div>"
      ],
      "text/plain": [
       "           Date         Close  \\\n",
       "0    2015-01-02  27887.900391   \n",
       "1    2015-01-05  27842.320312   \n",
       "2    2015-01-06  26987.460938   \n",
       "3    2015-01-07  26908.820312   \n",
       "4    2015-01-08  27274.710938   \n",
       "...         ...           ...   \n",
       "1469 2020-12-24  46973.539062   \n",
       "1470 2020-12-28  47353.750000   \n",
       "1471 2020-12-29  47613.078125   \n",
       "1472 2020-12-30  47746.218750   \n",
       "1473 2020-12-31  47751.328125   \n",
       "\n",
       "                                               headline  Subjectivity  \\\n",
       "0     drink smart with these party tips how to say s...      0.455678   \n",
       "1     recipe: strawberry cupcakes recipe: kaju jeera...      0.433587   \n",
       "2     turn to gardening for happiness teeth jeweller...      0.386579   \n",
       "3     can ex-lovers be friends? is water diet bad fo...      0.385529   \n",
       "4     how to do a home manicure recipe: spiced beetr...      0.408689   \n",
       "...                                                 ...           ...   \n",
       "1469  how to set the mood for sex during cold winter...      0.390942   \n",
       "1470  horoscope today; 28 december 2020: check astro...      0.412945   \n",
       "1471  man recovers charred remains of 'thief' from h...      0.424021   \n",
       "1472  numerology readings 30 december 2020: predicti...      0.441660   \n",
       "1473  horoscope today; 31 december 2020: check astro...      0.406220   \n",
       "\n",
       "      Polarity  Negative  Neutral  Positive  Compound  \n",
       "0     0.058540     0.146    0.741     0.113   -0.9997  \n",
       "1     0.097769     0.129    0.758     0.113   -0.9989  \n",
       "2     0.055777     0.116    0.804     0.079   -0.9997  \n",
       "3     0.033072     0.169    0.745     0.086   -1.0000  \n",
       "4     0.061495     0.143    0.774     0.083   -0.9999  \n",
       "...        ...       ...      ...       ...       ...  \n",
       "1469  0.048166     0.092    0.838     0.069   -0.9984  \n",
       "1470  0.070517     0.138    0.769     0.093   -0.9998  \n",
       "1471  0.061210     0.150    0.754     0.096   -0.9999  \n",
       "1472  0.043496     0.143    0.775     0.081   -0.9999  \n",
       "1473  0.091373     0.135    0.765     0.100   -0.9998  \n",
       "\n",
       "[1474 rows x 9 columns]"
      ]
     },
     "execution_count": 42,
     "metadata": {},
     "output_type": "execute_result"
    }
   ],
   "source": [
    "%%time\n",
    "df_merge = pd.merge(training_close['Close'], df, on = 'Date')\n",
    "df_merge"
   ]
  },
  {
   "cell_type": "code",
   "execution_count": 43,
   "metadata": {},
   "outputs": [
    {
     "data": {
      "text/html": [
       "<div>\n",
       "<style scoped>\n",
       "    .dataframe tbody tr th:only-of-type {\n",
       "        vertical-align: middle;\n",
       "    }\n",
       "\n",
       "    .dataframe tbody tr th {\n",
       "        vertical-align: top;\n",
       "    }\n",
       "\n",
       "    .dataframe thead th {\n",
       "        text-align: right;\n",
       "    }\n",
       "</style>\n",
       "<table border=\"1\" class=\"dataframe\">\n",
       "  <thead>\n",
       "    <tr style=\"text-align: right;\">\n",
       "      <th></th>\n",
       "      <th>Close</th>\n",
       "      <th>Subjectivity</th>\n",
       "      <th>Polarity</th>\n",
       "      <th>Negative</th>\n",
       "      <th>Neutral</th>\n",
       "      <th>Positive</th>\n",
       "      <th>Compound</th>\n",
       "    </tr>\n",
       "  </thead>\n",
       "  <tbody>\n",
       "    <tr>\n",
       "      <th>0</th>\n",
       "      <td>27887.900391</td>\n",
       "      <td>0.455678</td>\n",
       "      <td>0.058540</td>\n",
       "      <td>0.146</td>\n",
       "      <td>0.741</td>\n",
       "      <td>0.113</td>\n",
       "      <td>-0.9997</td>\n",
       "    </tr>\n",
       "    <tr>\n",
       "      <th>1</th>\n",
       "      <td>27842.320312</td>\n",
       "      <td>0.433587</td>\n",
       "      <td>0.097769</td>\n",
       "      <td>0.129</td>\n",
       "      <td>0.758</td>\n",
       "      <td>0.113</td>\n",
       "      <td>-0.9989</td>\n",
       "    </tr>\n",
       "    <tr>\n",
       "      <th>2</th>\n",
       "      <td>26987.460938</td>\n",
       "      <td>0.386579</td>\n",
       "      <td>0.055777</td>\n",
       "      <td>0.116</td>\n",
       "      <td>0.804</td>\n",
       "      <td>0.079</td>\n",
       "      <td>-0.9997</td>\n",
       "    </tr>\n",
       "    <tr>\n",
       "      <th>3</th>\n",
       "      <td>26908.820312</td>\n",
       "      <td>0.385529</td>\n",
       "      <td>0.033072</td>\n",
       "      <td>0.169</td>\n",
       "      <td>0.745</td>\n",
       "      <td>0.086</td>\n",
       "      <td>-1.0000</td>\n",
       "    </tr>\n",
       "    <tr>\n",
       "      <th>4</th>\n",
       "      <td>27274.710938</td>\n",
       "      <td>0.408689</td>\n",
       "      <td>0.061495</td>\n",
       "      <td>0.143</td>\n",
       "      <td>0.774</td>\n",
       "      <td>0.083</td>\n",
       "      <td>-0.9999</td>\n",
       "    </tr>\n",
       "    <tr>\n",
       "      <th>...</th>\n",
       "      <td>...</td>\n",
       "      <td>...</td>\n",
       "      <td>...</td>\n",
       "      <td>...</td>\n",
       "      <td>...</td>\n",
       "      <td>...</td>\n",
       "      <td>...</td>\n",
       "    </tr>\n",
       "    <tr>\n",
       "      <th>1469</th>\n",
       "      <td>46973.539062</td>\n",
       "      <td>0.390942</td>\n",
       "      <td>0.048166</td>\n",
       "      <td>0.092</td>\n",
       "      <td>0.838</td>\n",
       "      <td>0.069</td>\n",
       "      <td>-0.9984</td>\n",
       "    </tr>\n",
       "    <tr>\n",
       "      <th>1470</th>\n",
       "      <td>47353.750000</td>\n",
       "      <td>0.412945</td>\n",
       "      <td>0.070517</td>\n",
       "      <td>0.138</td>\n",
       "      <td>0.769</td>\n",
       "      <td>0.093</td>\n",
       "      <td>-0.9998</td>\n",
       "    </tr>\n",
       "    <tr>\n",
       "      <th>1471</th>\n",
       "      <td>47613.078125</td>\n",
       "      <td>0.424021</td>\n",
       "      <td>0.061210</td>\n",
       "      <td>0.150</td>\n",
       "      <td>0.754</td>\n",
       "      <td>0.096</td>\n",
       "      <td>-0.9999</td>\n",
       "    </tr>\n",
       "    <tr>\n",
       "      <th>1472</th>\n",
       "      <td>47746.218750</td>\n",
       "      <td>0.441660</td>\n",
       "      <td>0.043496</td>\n",
       "      <td>0.143</td>\n",
       "      <td>0.775</td>\n",
       "      <td>0.081</td>\n",
       "      <td>-0.9999</td>\n",
       "    </tr>\n",
       "    <tr>\n",
       "      <th>1473</th>\n",
       "      <td>47751.328125</td>\n",
       "      <td>0.406220</td>\n",
       "      <td>0.091373</td>\n",
       "      <td>0.135</td>\n",
       "      <td>0.765</td>\n",
       "      <td>0.100</td>\n",
       "      <td>-0.9998</td>\n",
       "    </tr>\n",
       "  </tbody>\n",
       "</table>\n",
       "<p>1474 rows × 7 columns</p>\n",
       "</div>"
      ],
      "text/plain": [
       "             Close  Subjectivity  Polarity  Negative  Neutral  Positive  \\\n",
       "0     27887.900391      0.455678  0.058540     0.146    0.741     0.113   \n",
       "1     27842.320312      0.433587  0.097769     0.129    0.758     0.113   \n",
       "2     26987.460938      0.386579  0.055777     0.116    0.804     0.079   \n",
       "3     26908.820312      0.385529  0.033072     0.169    0.745     0.086   \n",
       "4     27274.710938      0.408689  0.061495     0.143    0.774     0.083   \n",
       "...            ...           ...       ...       ...      ...       ...   \n",
       "1469  46973.539062      0.390942  0.048166     0.092    0.838     0.069   \n",
       "1470  47353.750000      0.412945  0.070517     0.138    0.769     0.093   \n",
       "1471  47613.078125      0.424021  0.061210     0.150    0.754     0.096   \n",
       "1472  47746.218750      0.441660  0.043496     0.143    0.775     0.081   \n",
       "1473  47751.328125      0.406220  0.091373     0.135    0.765     0.100   \n",
       "\n",
       "      Compound  \n",
       "0      -0.9997  \n",
       "1      -0.9989  \n",
       "2      -0.9997  \n",
       "3      -1.0000  \n",
       "4      -0.9999  \n",
       "...        ...  \n",
       "1469   -0.9984  \n",
       "1470   -0.9998  \n",
       "1471   -0.9999  \n",
       "1472   -0.9999  \n",
       "1473   -0.9998  \n",
       "\n",
       "[1474 rows x 7 columns]"
      ]
     },
     "execution_count": 43,
     "metadata": {},
     "output_type": "execute_result"
    }
   ],
   "source": [
    "test_hybrid = df_merge[['Close', 'Subjectivity', 'Polarity', 'Negative', 'Neutral', 'Positive', 'Compound']]\n",
    "test_hybrid"
   ]
  },
  {
   "cell_type": "code",
   "execution_count": 44,
   "metadata": {},
   "outputs": [
    {
     "data": {
      "text/html": [
       "<div>\n",
       "<style scoped>\n",
       "    .dataframe tbody tr th:only-of-type {\n",
       "        vertical-align: middle;\n",
       "    }\n",
       "\n",
       "    .dataframe tbody tr th {\n",
       "        vertical-align: top;\n",
       "    }\n",
       "\n",
       "    .dataframe thead th {\n",
       "        text-align: right;\n",
       "    }\n",
       "</style>\n",
       "<table border=\"1\" class=\"dataframe\">\n",
       "  <thead>\n",
       "    <tr style=\"text-align: right;\">\n",
       "      <th></th>\n",
       "      <th>Close</th>\n",
       "      <th>Subjectivity</th>\n",
       "      <th>Polarity</th>\n",
       "      <th>Negative</th>\n",
       "      <th>Neutral</th>\n",
       "      <th>Positive</th>\n",
       "      <th>Compound</th>\n",
       "    </tr>\n",
       "  </thead>\n",
       "  <tbody>\n",
       "    <tr>\n",
       "      <th>0</th>\n",
       "      <td>0.199039</td>\n",
       "      <td>0.880401</td>\n",
       "      <td>0.441347</td>\n",
       "      <td>0.468254</td>\n",
       "      <td>0.285714</td>\n",
       "      <td>0.508475</td>\n",
       "      <td>0.00015</td>\n",
       "    </tr>\n",
       "    <tr>\n",
       "      <th>1</th>\n",
       "      <td>0.197201</td>\n",
       "      <td>0.722400</td>\n",
       "      <td>0.652796</td>\n",
       "      <td>0.333333</td>\n",
       "      <td>0.396104</td>\n",
       "      <td>0.508475</td>\n",
       "      <td>0.00055</td>\n",
       "    </tr>\n",
       "    <tr>\n",
       "      <th>2</th>\n",
       "      <td>0.162730</td>\n",
       "      <td>0.386186</td>\n",
       "      <td>0.426457</td>\n",
       "      <td>0.230159</td>\n",
       "      <td>0.694805</td>\n",
       "      <td>0.220339</td>\n",
       "      <td>0.00015</td>\n",
       "    </tr>\n",
       "    <tr>\n",
       "      <th>3</th>\n",
       "      <td>0.159559</td>\n",
       "      <td>0.378678</td>\n",
       "      <td>0.304075</td>\n",
       "      <td>0.650794</td>\n",
       "      <td>0.311688</td>\n",
       "      <td>0.279661</td>\n",
       "      <td>0.00000</td>\n",
       "    </tr>\n",
       "    <tr>\n",
       "      <th>4</th>\n",
       "      <td>0.174313</td>\n",
       "      <td>0.544322</td>\n",
       "      <td>0.457276</td>\n",
       "      <td>0.444444</td>\n",
       "      <td>0.500000</td>\n",
       "      <td>0.254237</td>\n",
       "      <td>0.00005</td>\n",
       "    </tr>\n",
       "    <tr>\n",
       "      <th>...</th>\n",
       "      <td>...</td>\n",
       "      <td>...</td>\n",
       "      <td>...</td>\n",
       "      <td>...</td>\n",
       "      <td>...</td>\n",
       "      <td>...</td>\n",
       "      <td>...</td>\n",
       "    </tr>\n",
       "    <tr>\n",
       "      <th>1469</th>\n",
       "      <td>0.968637</td>\n",
       "      <td>0.417394</td>\n",
       "      <td>0.385432</td>\n",
       "      <td>0.039683</td>\n",
       "      <td>0.915584</td>\n",
       "      <td>0.135593</td>\n",
       "      <td>0.00080</td>\n",
       "    </tr>\n",
       "    <tr>\n",
       "      <th>1470</th>\n",
       "      <td>0.983968</td>\n",
       "      <td>0.574767</td>\n",
       "      <td>0.505904</td>\n",
       "      <td>0.404762</td>\n",
       "      <td>0.467532</td>\n",
       "      <td>0.338983</td>\n",
       "      <td>0.00010</td>\n",
       "    </tr>\n",
       "    <tr>\n",
       "      <th>1471</th>\n",
       "      <td>0.994425</td>\n",
       "      <td>0.653985</td>\n",
       "      <td>0.455741</td>\n",
       "      <td>0.500000</td>\n",
       "      <td>0.370130</td>\n",
       "      <td>0.364407</td>\n",
       "      <td>0.00005</td>\n",
       "    </tr>\n",
       "    <tr>\n",
       "      <th>1472</th>\n",
       "      <td>0.999794</td>\n",
       "      <td>0.780139</td>\n",
       "      <td>0.360262</td>\n",
       "      <td>0.444444</td>\n",
       "      <td>0.506494</td>\n",
       "      <td>0.237288</td>\n",
       "      <td>0.00005</td>\n",
       "    </tr>\n",
       "    <tr>\n",
       "      <th>1473</th>\n",
       "      <td>1.000000</td>\n",
       "      <td>0.526665</td>\n",
       "      <td>0.618321</td>\n",
       "      <td>0.380952</td>\n",
       "      <td>0.441558</td>\n",
       "      <td>0.398305</td>\n",
       "      <td>0.00010</td>\n",
       "    </tr>\n",
       "  </tbody>\n",
       "</table>\n",
       "<p>1474 rows × 7 columns</p>\n",
       "</div>"
      ],
      "text/plain": [
       "         Close  Subjectivity  Polarity  Negative   Neutral  Positive  Compound\n",
       "0     0.199039      0.880401  0.441347  0.468254  0.285714  0.508475   0.00015\n",
       "1     0.197201      0.722400  0.652796  0.333333  0.396104  0.508475   0.00055\n",
       "2     0.162730      0.386186  0.426457  0.230159  0.694805  0.220339   0.00015\n",
       "3     0.159559      0.378678  0.304075  0.650794  0.311688  0.279661   0.00000\n",
       "4     0.174313      0.544322  0.457276  0.444444  0.500000  0.254237   0.00005\n",
       "...        ...           ...       ...       ...       ...       ...       ...\n",
       "1469  0.968637      0.417394  0.385432  0.039683  0.915584  0.135593   0.00080\n",
       "1470  0.983968      0.574767  0.505904  0.404762  0.467532  0.338983   0.00010\n",
       "1471  0.994425      0.653985  0.455741  0.500000  0.370130  0.364407   0.00005\n",
       "1472  0.999794      0.780139  0.360262  0.444444  0.506494  0.237288   0.00005\n",
       "1473  1.000000      0.526665  0.618321  0.380952  0.441558  0.398305   0.00010\n",
       "\n",
       "[1474 rows x 7 columns]"
      ]
     },
     "execution_count": 44,
     "metadata": {},
     "output_type": "execute_result"
    }
   ],
   "source": [
    "new_df = pd.DataFrame(scaler.fit_transform(test_hybrid))\n",
    "new_df.columns = test_hybrid.columns\n",
    "new_df"
   ]
  },
  {
   "cell_type": "markdown",
   "metadata": {},
   "source": [
    "##### Data PreProcessing"
   ]
  },
  {
   "cell_type": "code",
   "execution_count": 45,
   "metadata": {},
   "outputs": [
    {
     "data": {
      "text/plain": [
       "0       0.199039\n",
       "1       0.197201\n",
       "2       0.162730\n",
       "3       0.159559\n",
       "4       0.174313\n",
       "          ...   \n",
       "1469    0.968637\n",
       "1470    0.983968\n",
       "1471    0.994425\n",
       "1472    0.999794\n",
       "1473    1.000000\n",
       "Name: Close, Length: 1474, dtype: float64"
      ]
     },
     "execution_count": 45,
     "metadata": {},
     "output_type": "execute_result"
    }
   ],
   "source": [
    "# Create X and Y variables for independent and dependent values\n",
    "X = new_df.drop('Close', axis = 1)\n",
    "Y = new_df['Close']\n",
    "Y"
   ]
  },
  {
   "cell_type": "code",
   "execution_count": 46,
   "metadata": {},
   "outputs": [],
   "source": [
    "from sklearn.model_selection import train_test_split\n",
    "import xgboost as xgb\n",
    "\n",
    "X_train, X_test, Y_train, Y_test = train_test_split(X, Y, test_size = 0.3, random_state = 123)"
   ]
  },
  {
   "cell_type": "code",
   "execution_count": 47,
   "metadata": {},
   "outputs": [],
   "source": [
    "# Creating the model\n",
    "xgb_model = xgb.XGBRegressor()\n",
    "\n",
    "# Fitting the model on train data\n",
    "xgb_model.fit(X_train, Y_train)\n",
    "\n",
    "# Predicting the model\n",
    "Y_pred = xgb_model.predict(X_test)"
   ]
  },
  {
   "cell_type": "markdown",
   "metadata": {},
   "source": [
    "##### Evaluating the model"
   ]
  },
  {
   "cell_type": "code",
   "execution_count": 48,
   "metadata": {},
   "outputs": [
    {
     "name": "stdout",
     "output_type": "stream",
     "text": [
      "Mean Squared Error:  0.04561851889594077\n"
     ]
    }
   ],
   "source": [
    "print('Mean Squared Error: ', mean_squared_error(Y_test, Y_pred))"
   ]
  },
  {
   "cell_type": "code",
   "execution_count": null,
   "metadata": {},
   "outputs": [],
   "source": []
  }
 ],
 "metadata": {
  "kernelspec": {
   "display_name": "Python 3",
   "language": "python",
   "name": "python3"
  },
  "language_info": {
   "codemirror_mode": {
    "name": "ipython",
    "version": 3
   },
   "file_extension": ".py",
   "mimetype": "text/x-python",
   "name": "python",
   "nbconvert_exporter": "python",
   "pygments_lexer": "ipython3",
   "version": "3.8.3"
  }
 },
 "nbformat": 4,
 "nbformat_minor": 4
}
